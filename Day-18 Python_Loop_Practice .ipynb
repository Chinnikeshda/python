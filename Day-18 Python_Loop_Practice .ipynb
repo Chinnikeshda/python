{
 "cells": [
  {
   "cell_type": "code",
   "execution_count": 4,
   "id": "2fcfd9a6",
   "metadata": {},
   "outputs": [
    {
     "name": "stdout",
     "output_type": "stream",
     "text": [
      "          * \n",
      "        * * * \n",
      "      * * * * * \n",
      "    * * * * * * * \n",
      "  * * * * * * * * * \n",
      "    * * * * * * * \n",
      "      * * * * * \n",
      "        * * * \n",
      "          * \n"
     ]
    }
   ],
   "source": [
    "n = 5\n",
    "\n",
    "\n",
    "for i in range(n-1):\n",
    "    for j in range(i,n):\n",
    "        print(\" \",end=\" \")\n",
    "    for j in range(i):\n",
    "        print(\"*\",end=\" \")\n",
    "    for j in range(i+1):\n",
    "        print(\"*\",end=\" \")\n",
    "    print()\n",
    "     \n",
    "for i in range(n):    \n",
    "    for j in range(i+1):\n",
    "        print(\" \",end=\" \")\n",
    "    for j in range(i,n-1):\n",
    "        print(\"*\",end=\" \")\n",
    "    for j in range(i,n):\n",
    "        print(\"*\",end=\" \")\n",
    "    print()"
   ]
  },
  {
   "cell_type": "code",
   "execution_count": 31,
   "id": "22641d45",
   "metadata": {},
   "outputs": [
    {
     "name": "stdout",
     "output_type": "stream",
     "text": [
      "          * \n",
      "        * * * \n",
      "      * * * * * \n",
      "    * * * * * * * \n"
     ]
    }
   ],
   "source": [
    "for i in range(n-1):             #(0,1,2,3)      \n",
    "    for j in range(i,n):         #(0,1,2,3,4), (1,2,3,4), (2,3,4), (3,4)\n",
    "        print(\" \",end=\" \")       \n",
    "    for j in range(i):           #(0), (1), (2), (3)\n",
    "        print(\"*\",end=\" \")\n",
    "    for j in range(i+1):         #(1), (2), (3), (4)\n",
    "        print(\"*\",end=\" \")\n",
    "    print()    \n",
    "        \n"
   ]
  },
  {
   "cell_type": "code",
   "execution_count": 27,
   "id": "3d5f13e9",
   "metadata": {},
   "outputs": [
    {
     "name": "stdout",
     "output_type": "stream",
     "text": [
      "  * * * * * * * * * \n",
      "    * * * * * * * \n",
      "      * * * * * \n",
      "        * * * \n",
      "          * \n"
     ]
    }
   ],
   "source": [
    " for i in range(n):           #(0,1,2,3,4),  \n",
    "    for j in range(i+1):      #(1), (2),  (3), (4), (5)\n",
    "        print(\" \",end=\" \")    \n",
    "    for j in range(i,n-1):    #(0,1,2,3), (1,2,3), (2,3), (3), ()\n",
    "        print(\"*\",end=\" \")\n",
    "    for j in range(i,n):      #(0,1,2,3,4), (1,2,3,4), (2,3,4), (3,4), (4)\n",
    "        print(\"*\",end=\" \")\n",
    "    print()    \n",
    "    "
   ]
  },
  {
   "cell_type": "code",
   "execution_count": 21,
   "id": "fc7eb2e5",
   "metadata": {},
   "outputs": [
    {
     "data": {
      "text/plain": [
       "range(0, 4)"
      ]
     },
     "execution_count": 21,
     "metadata": {},
     "output_type": "execute_result"
    }
   ],
   "source": [
    " range(4)"
   ]
  },
  {
   "cell_type": "code",
   "execution_count": 22,
   "id": "ec63fb14",
   "metadata": {},
   "outputs": [
    {
     "data": {
      "text/plain": [
       "[0, 1, 2, 3]"
      ]
     },
     "execution_count": 22,
     "metadata": {},
     "output_type": "execute_result"
    }
   ],
   "source": [
    "list( range(4))"
   ]
  },
  {
   "cell_type": "code",
   "execution_count": 33,
   "id": "28401e3d",
   "metadata": {},
   "outputs": [],
   "source": [
    "l= [(3,4,5,6) , [2,4,5,5,6] , {'k1' : 'v1' , 'k2' :'v2'}]\n",
    "l1 = []"
   ]
  },
  {
   "cell_type": "code",
   "execution_count": 34,
   "id": "f7c1be8d",
   "metadata": {},
   "outputs": [],
   "source": [
    "for i in l :                                        #[(3,4,5,6) , [2,4,5,5,6] , {'k1' : 'v1' , 'k2' :'v2'}]\n",
    "    if type(i) == list or type( i )== tuple :       #tuple \n",
    "        for j in i :                                #                                \n",
    "            l1.append(j)\n",
    "    if type(i) == dict :                           \n",
    "        for k in i.items():\n",
    "            for m in k :\n",
    "                l1.append(m)  "
   ]
  },
  {
   "cell_type": "code",
   "execution_count": 35,
   "id": "ab322868",
   "metadata": {},
   "outputs": [
    {
     "data": {
      "text/plain": [
       "[3, 4, 5, 6, 2, 4, 5, 5, 6, 'k1', 'v1', 'k2', 'v2']"
      ]
     },
     "execution_count": 35,
     "metadata": {},
     "output_type": "execute_result"
    }
   ],
   "source": [
    "l1"
   ]
  },
  {
   "cell_type": "code",
   "execution_count": null,
   "id": "f313dc27",
   "metadata": {},
   "outputs": [],
   "source": [
    "for i in l :                                        #[(3,4,5,6) , [2,4,5,5,6] , {'k1' : 'v1' , 'k2' :'v2'}]\n",
    "    if type(i) == list or type( i )== tuple :       #tuple \n",
    "        for j in i :                                #                                \n",
    "            l1.append(j)\n",
    "    if type(i) == dict :                           \n",
    "        for k in i.items():\n",
    "            for m in k :\n",
    "                l1.append(m)  "
   ]
  },
  {
   "cell_type": "code",
   "execution_count": 36,
   "id": "1d2773ff",
   "metadata": {},
   "outputs": [
    {
     "name": "stdout",
     "output_type": "stream",
     "text": [
      "[3, 4, 5, 6, 2, 4, 5, 5, 6, 'v1', 'v2']\n"
     ]
    }
   ],
   "source": [
    "l2=[]\n",
    "for i  in l:\n",
    "    if type(i)==list or type(i)==tuple:\n",
    "        for j in i:\n",
    "            l2.append(j)\n",
    "    if type(i)==dict:\n",
    "        for v in i.values():\n",
    "            l2.append(v)\n",
    "            \n",
    "            \n",
    "print(l2)            "
   ]
  },
  {
   "cell_type": "code",
   "execution_count": 40,
   "id": "9aee8730",
   "metadata": {},
   "outputs": [
    {
     "name": "stdout",
     "output_type": "stream",
     "text": [
      "[3, 4, 5, 6, 2, 4, 5, 5, 6, 'k1', 'k2']\n"
     ]
    }
   ],
   "source": [
    "l\n",
    "l3=[]\n",
    "for i  in l:\n",
    "    if type(i)==list or type(i)==tuple:\n",
    "        for j in i:\n",
    "            l3.append(j)\n",
    "    if type(i)==dict:\n",
    "        for v in i.keys():\n",
    "            l3.append(v)\n",
    "            \n",
    "            \n",
    "print(l3) "
   ]
  },
  {
   "cell_type": "code",
   "execution_count": 42,
   "id": "97d9ad49",
   "metadata": {},
   "outputs": [
    {
     "name": "stdout",
     "output_type": "stream",
     "text": [
      "enter a number : enter 1 for values and 2 for dictionary 1\n",
      "[1, 3, 4, 2, 1, 4, 3, 5, 3, 'v1', 'v2']\n"
     ]
    }
   ],
   "source": [
    "ll = [(1,3,4,2), [1,4,3,5,3], { 'k1' : 'v1', 'k2' : \"v2\"}]\n",
    "\n",
    "l2 = []\n",
    "\n",
    "for i in ll: \n",
    "    if type(i) ==list or type(i) == tuple :\n",
    "        for j in i :\n",
    "            l2.append(j)\n",
    "    if type(i) == dict :\n",
    "        n = int(input(\"enter a number : enter 1 for values and 2 for dictionary \"))\n",
    "        if n==1:\n",
    "            for v in i.values():\n",
    "                l2.append(v)\n",
    "        elif n==2 :\n",
    "            for k in i.keys():\n",
    "                l2.append(k)\n",
    "print(l2)"
   ]
  },
  {
   "cell_type": "code",
   "execution_count": null,
   "id": "0fd23573",
   "metadata": {},
   "outputs": [],
   "source": []
  }
 ],
 "metadata": {
  "kernelspec": {
   "display_name": "Python 3 (ipykernel)",
   "language": "python",
   "name": "python3"
  },
  "language_info": {
   "codemirror_mode": {
    "name": "ipython",
    "version": 3
   },
   "file_extension": ".py",
   "mimetype": "text/x-python",
   "name": "python",
   "nbconvert_exporter": "python",
   "pygments_lexer": "ipython3",
   "version": "3.11.5"
  }
 },
 "nbformat": 4,
 "nbformat_minor": 5
}
