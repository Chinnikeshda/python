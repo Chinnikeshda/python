{
 "cells": [
  {
   "cell_type": "markdown",
   "id": "b9cf6c33",
   "metadata": {},
   "source": [
    "## File handling"
   ]
  },
  {
   "cell_type": "code",
   "execution_count": 2,
   "id": "d2ce8689",
   "metadata": {},
   "outputs": [],
   "source": [
    "f =open('test7.txt',\"w\")"
   ]
  },
  {
   "cell_type": "code",
   "execution_count": 3,
   "id": "a5ef4f08",
   "metadata": {},
   "outputs": [],
   "source": [
    "f1 = open('test7.txt')"
   ]
  },
  {
   "cell_type": "code",
   "execution_count": 4,
   "id": "090572bf",
   "metadata": {},
   "outputs": [
    {
     "data": {
      "text/plain": [
       "23"
      ]
     },
     "execution_count": 4,
     "metadata": {},
     "output_type": "execute_result"
    }
   ],
   "source": [
    "f.write(\"this is my new dataset!\")"
   ]
  },
  {
   "cell_type": "code",
   "execution_count": 5,
   "id": "69db265d",
   "metadata": {},
   "outputs": [],
   "source": [
    "f.close()"
   ]
  },
  {
   "cell_type": "code",
   "execution_count": 6,
   "id": "5763a8fb",
   "metadata": {},
   "outputs": [
    {
     "data": {
      "text/plain": [
       "'w'"
      ]
     },
     "execution_count": 6,
     "metadata": {},
     "output_type": "execute_result"
    }
   ],
   "source": [
    "f.mode"
   ]
  },
  {
   "cell_type": "code",
   "execution_count": 7,
   "id": "f37ff315",
   "metadata": {},
   "outputs": [
    {
     "data": {
      "text/plain": [
       "'test7.txt'"
      ]
     },
     "execution_count": 7,
     "metadata": {},
     "output_type": "execute_result"
    }
   ],
   "source": [
    "f.name"
   ]
  },
  {
   "cell_type": "code",
   "execution_count": 9,
   "id": "cc28e982",
   "metadata": {},
   "outputs": [],
   "source": [
    "f2 = open('d:/test11.txt' , 'w')"
   ]
  },
  {
   "cell_type": "code",
   "execution_count": 10,
   "id": "c2dbd797",
   "metadata": {},
   "outputs": [
    {
     "name": "stdout",
     "output_type": "stream",
     "text": [
      "Overwriting test7.txt\n"
     ]
    }
   ],
   "source": [
    "%%writefile test7.txt\n",
    "this is my python program to write into a file in different way \n",
    "this is my python program to write into a file in different way \n",
    "this is my python program to write into a file in different way"
   ]
  },
  {
   "cell_type": "markdown",
   "id": "e380551a",
   "metadata": {},
   "source": [
    "## OS Directory"
   ]
  },
  {
   "cell_type": "code",
   "execution_count": 13,
   "id": "0684ebe7",
   "metadata": {},
   "outputs": [],
   "source": [
    "import os"
   ]
  },
  {
   "cell_type": "code",
   "execution_count": 12,
   "id": "08bd393d",
   "metadata": {},
   "outputs": [
    {
     "data": {
      "text/plain": [
       "'C:\\\\Users\\\\AMT\\\\class'"
      ]
     },
     "execution_count": 12,
     "metadata": {},
     "output_type": "execute_result"
    }
   ],
   "source": [
    "pwd()"
   ]
  },
  {
   "cell_type": "code",
   "execution_count": 14,
   "id": "019bb261",
   "metadata": {},
   "outputs": [
    {
     "data": {
      "text/plain": [
       "'C:\\\\Users\\\\AMT\\\\class'"
      ]
     },
     "execution_count": 14,
     "metadata": {},
     "output_type": "execute_result"
    }
   ],
   "source": [
    "os.getcwd()"
   ]
  },
  {
   "cell_type": "code",
   "execution_count": 15,
   "id": "f25e57ca",
   "metadata": {},
   "outputs": [
    {
     "data": {
      "text/plain": [
       "['.ipynb_checkpoints',\n",
       " 'Day-20 Python__args___kwargs_docstring.ipynb',\n",
       " 'map_os_dir.ipynb',\n",
       " 'test5.txt',\n",
       " 'test7.txt',\n",
       " 'Untitled.ipynb',\n",
       " 'Untitled1.ipynb']"
      ]
     },
     "execution_count": 15,
     "metadata": {},
     "output_type": "execute_result"
    }
   ],
   "source": [
    "os.listdir()"
   ]
  },
  {
   "cell_type": "code",
   "execution_count": 17,
   "id": "15e29a64",
   "metadata": {},
   "outputs": [
    {
     "data": {
      "text/plain": [
       "['business-employment-data-june-2023-quarter.zip',\n",
       " 'Day-20 Python__args___kwargs_docstring.ipynb',\n",
       " 'desktop.ini',\n",
       " 'Excel PPT.ppt',\n",
       " 'image_123650291.JPG',\n",
       " 'machine-readable-business-employment-data-jun-2023-quarter.csv',\n",
       " 'Untitled.ipynb',\n",
       " 'Untitled3.ipynb',\n",
       " 'XML_CustomersOrders.xml',\n",
       " '_Py_Assn Basic Modules .pdf']"
      ]
     },
     "execution_count": 17,
     "metadata": {},
     "output_type": "execute_result"
    }
   ],
   "source": [
    "os.listdir(\"C:\\\\Users\\\\AMT\\\\Downloads\")"
   ]
  },
  {
   "cell_type": "code",
   "execution_count": 18,
   "id": "c4e6dd3f",
   "metadata": {},
   "outputs": [
    {
     "data": {
      "text/plain": [
       "['business-employment-data-june-2023-quarter.zip',\n",
       " 'Day-20 Python__args___kwargs_docstring.ipynb',\n",
       " 'desktop.ini',\n",
       " 'Excel PPT.ppt',\n",
       " 'image_123650291.JPG',\n",
       " 'machine-readable-business-employment-data-jun-2023-quarter.csv',\n",
       " 'Untitled.ipynb',\n",
       " 'Untitled3.ipynb',\n",
       " 'XML_CustomersOrders.xml',\n",
       " '_Py_Assn Basic Modules .pdf']"
      ]
     },
     "execution_count": 18,
     "metadata": {},
     "output_type": "execute_result"
    }
   ],
   "source": [
    "os.listdir(\"C:/Users/AMT/Downloads\")"
   ]
  },
  {
   "cell_type": "code",
   "execution_count": 31,
   "id": "48c36e54",
   "metadata": {},
   "outputs": [],
   "source": [
    "os.chdir(\"C:/Users/AMT/Documents\")  # change directory"
   ]
  },
  {
   "cell_type": "code",
   "execution_count": 20,
   "id": "63ce0107",
   "metadata": {},
   "outputs": [
    {
     "data": {
      "text/plain": [
       "['amit',\n",
       " 'Custom Office Templates',\n",
       " 'desktop.ini',\n",
       " 'KingsoftData',\n",
       " 'My Music',\n",
       " 'My Pictures',\n",
       " 'My Videos',\n",
       " 'name',\n",
       " 'Python Scripts',\n",
       " 'SoftMaker',\n",
       " 'WPS Cloud Files']"
      ]
     },
     "execution_count": 20,
     "metadata": {},
     "output_type": "execute_result"
    }
   ],
   "source": [
    "os.listdir(\"C:\\\\Users\\\\AMT\\\\Documents\")"
   ]
  },
  {
   "cell_type": "code",
   "execution_count": 21,
   "id": "076a3f3f",
   "metadata": {},
   "outputs": [],
   "source": [
    "os.mkdir(\"C:\\\\Users\\\\AMT\\\\Documents\\\\datadir\")"
   ]
  },
  {
   "cell_type": "code",
   "execution_count": 22,
   "id": "91094b6b",
   "metadata": {},
   "outputs": [
    {
     "data": {
      "text/plain": [
       "'C:\\\\Users\\\\AMT\\\\Documents'"
      ]
     },
     "execution_count": 22,
     "metadata": {},
     "output_type": "execute_result"
    }
   ],
   "source": [
    "os.getcwd()"
   ]
  },
  {
   "cell_type": "code",
   "execution_count": 23,
   "id": "216647d5",
   "metadata": {},
   "outputs": [
    {
     "name": "stdout",
     "output_type": "stream",
     "text": [
      "no\n"
     ]
    }
   ],
   "source": [
    "if 'datadir.txt' in os.listdir():\n",
    "    print(\"yes\")\n",
    "    f = open(\"new.txt\", \"r+\")\n",
    "    for i in f:\n",
    "        print(i)\n",
    "else:\n",
    "    print(\"no\")"
   ]
  },
  {
   "cell_type": "code",
   "execution_count": 35,
   "id": "23ea5684",
   "metadata": {},
   "outputs": [],
   "source": [
    "os.chdir(\"C:\\\\Users\\\\AMT\\\\Downloads\") "
   ]
  },
  {
   "cell_type": "code",
   "execution_count": 25,
   "id": "9c9743da",
   "metadata": {},
   "outputs": [
    {
     "data": {
      "text/plain": [
       "'C:\\\\Users\\\\AMT\\\\Downloads'"
      ]
     },
     "execution_count": 25,
     "metadata": {},
     "output_type": "execute_result"
    }
   ],
   "source": [
    "os.getcwd()"
   ]
  },
  {
   "cell_type": "code",
   "execution_count": 26,
   "id": "228025e2",
   "metadata": {},
   "outputs": [
    {
     "name": "stdout",
     "output_type": "stream",
     "text": [
      "yes\n"
     ]
    }
   ],
   "source": [
    "if 'New.txt' in os.listdir():\n",
    "    print(\"yes\")\n",
    "    f = open(\"New.txt\", \"r+\")\n",
    "    for i in f:\n",
    "        print(i)\n",
    "else:\n",
    "    print(\"no\")"
   ]
  },
  {
   "cell_type": "code",
   "execution_count": 27,
   "id": "d92303b1",
   "metadata": {},
   "outputs": [
    {
     "data": {
      "text/plain": [
       "['business-employment-data-june-2023-quarter.zip',\n",
       " 'Day-20 Python__args___kwargs_docstring.ipynb',\n",
       " 'desktop.ini',\n",
       " 'Excel PPT.ppt',\n",
       " 'image_123650291.JPG',\n",
       " 'machine-readable-business-employment-data-jun-2023-quarter.csv',\n",
       " 'New.txt',\n",
       " 'Untitled.ipynb',\n",
       " 'Untitled3.ipynb',\n",
       " 'XML_CustomersOrders.xml',\n",
       " '_Py_Assn Basic Modules .pdf']"
      ]
     },
     "execution_count": 27,
     "metadata": {},
     "output_type": "execute_result"
    }
   ],
   "source": [
    "os.listdir()"
   ]
  },
  {
   "cell_type": "code",
   "execution_count": 28,
   "id": "cfd7021e",
   "metadata": {},
   "outputs": [],
   "source": [
    "if not os.path.isdir(\"text.txt\"):\n",
    "    os.mkdir(\"text.txt\")"
   ]
  },
  {
   "cell_type": "code",
   "execution_count": 29,
   "id": "9e8b525a",
   "metadata": {},
   "outputs": [],
   "source": [
    "if not os.path.isdir(\"text1.txt\"):\n",
    "    open(\"text1.txt\", \"w\")"
   ]
  },
  {
   "cell_type": "code",
   "execution_count": 37,
   "id": "3fcacbee",
   "metadata": {},
   "outputs": [],
   "source": [
    "os.rmdir(\"text.txt\")"
   ]
  },
  {
   "cell_type": "code",
   "execution_count": 36,
   "id": "c215cc06",
   "metadata": {},
   "outputs": [
    {
     "data": {
      "text/plain": [
       "'C:\\\\Users\\\\AMT\\\\Downloads'"
      ]
     },
     "execution_count": 36,
     "metadata": {},
     "output_type": "execute_result"
    }
   ],
   "source": [
    "os.getcwd()"
   ]
  },
  {
   "cell_type": "markdown",
   "id": "37c87cbc",
   "metadata": {},
   "source": [
    "# map"
   ]
  },
  {
   "cell_type": "code",
   "execution_count": 38,
   "id": "c02e6b3e",
   "metadata": {},
   "outputs": [],
   "source": [
    "l = [2,3,4,5,5,6]\n",
    "l1  = []\n",
    "for i in l :\n",
    "    l1.append(i**2)"
   ]
  },
  {
   "cell_type": "code",
   "execution_count": 39,
   "id": "5af52743",
   "metadata": {},
   "outputs": [
    {
     "data": {
      "text/plain": [
       "[4, 9, 16, 25, 25, 36]"
      ]
     },
     "execution_count": 39,
     "metadata": {},
     "output_type": "execute_result"
    }
   ],
   "source": [
    "l1"
   ]
  },
  {
   "cell_type": "code",
   "execution_count": 40,
   "id": "401f2b15",
   "metadata": {},
   "outputs": [
    {
     "data": {
      "text/plain": [
       "[2, 3, 4, 5, 5, 6]"
      ]
     },
     "execution_count": 40,
     "metadata": {},
     "output_type": "execute_result"
    }
   ],
   "source": [
    "l"
   ]
  },
  {
   "cell_type": "code",
   "execution_count": 46,
   "id": "d2503dc4",
   "metadata": {},
   "outputs": [],
   "source": [
    "def sq(n) : \n",
    "    return n**2"
   ]
  },
  {
   "cell_type": "code",
   "execution_count": 64,
   "id": "5836ad00",
   "metadata": {},
   "outputs": [
    {
     "data": {
      "text/plain": [
       "160000"
      ]
     },
     "execution_count": 64,
     "metadata": {},
     "output_type": "execute_result"
    }
   ],
   "source": [
    "sq(400)"
   ]
  },
  {
   "cell_type": "code",
   "execution_count": 51,
   "id": "a6b3498f",
   "metadata": {},
   "outputs": [
    {
     "data": {
      "text/plain": [
       "[4, 9, 16, 25, 25, 36]"
      ]
     },
     "execution_count": 51,
     "metadata": {},
     "output_type": "execute_result"
    }
   ],
   "source": [
    "list(map(sq, l ))"
   ]
  },
  {
   "cell_type": "code",
   "execution_count": 61,
   "id": "01d1d7f8",
   "metadata": {},
   "outputs": [],
   "source": [
    "map1= map(sq, [20,30])"
   ]
  },
  {
   "cell_type": "code",
   "execution_count": 63,
   "id": "9f07e4b2",
   "metadata": {},
   "outputs": [
    {
     "data": {
      "text/plain": [
       "[]"
      ]
     },
     "execution_count": 63,
     "metadata": {},
     "output_type": "execute_result"
    }
   ],
   "source": [
    "list(map1)"
   ]
  },
  {
   "cell_type": "code",
   "execution_count": 69,
   "id": "383c8540",
   "metadata": {},
   "outputs": [
    {
     "data": {
      "text/plain": [
       "<map at 0x2708f982e60>"
      ]
     },
     "execution_count": 69,
     "metadata": {},
     "output_type": "execute_result"
    }
   ],
   "source": [
    "map(lambda x : x**2 , l )"
   ]
  },
  {
   "cell_type": "code",
   "execution_count": 67,
   "id": "9e9d8842",
   "metadata": {},
   "outputs": [
    {
     "data": {
      "text/plain": [
       "[2, 3, 4, 5, 5, 6]"
      ]
     },
     "execution_count": 67,
     "metadata": {},
     "output_type": "execute_result"
    }
   ],
   "source": [
    "[i for i in l]"
   ]
  },
  {
   "cell_type": "code",
   "execution_count": 71,
   "id": "66bdcfb8",
   "metadata": {},
   "outputs": [
    {
     "data": {
      "text/plain": [
       "[4, 9, 16, 25, 25, 36]"
      ]
     },
     "execution_count": 71,
     "metadata": {},
     "output_type": "execute_result"
    }
   ],
   "source": [
    "list(map(lambda x : x**2 , l ))"
   ]
  },
  {
   "cell_type": "code",
   "execution_count": 72,
   "id": "c9155cc3",
   "metadata": {},
   "outputs": [
    {
     "data": {
      "text/plain": [
       "['2', '3', '4', '5', '5', '6']"
      ]
     },
     "execution_count": 72,
     "metadata": {},
     "output_type": "execute_result"
    }
   ],
   "source": [
    "list(map(lambda x : str(x) , l))"
   ]
  },
  {
   "cell_type": "code",
   "execution_count": 73,
   "id": "6a9ba345",
   "metadata": {},
   "outputs": [],
   "source": [
    "def str_c(n) :\n",
    "    return str(n)"
   ]
  },
  {
   "cell_type": "code",
   "execution_count": 74,
   "id": "bafa04e5",
   "metadata": {},
   "outputs": [
    {
     "data": {
      "text/plain": [
       "'55'"
      ]
     },
     "execution_count": 74,
     "metadata": {},
     "output_type": "execute_result"
    }
   ],
   "source": [
    "str_c(55) "
   ]
  },
  {
   "cell_type": "code",
   "execution_count": 75,
   "id": "17bdbb82",
   "metadata": {},
   "outputs": [
    {
     "data": {
      "text/plain": [
       "['2', '3', '4', '5', '5', '6']"
      ]
     },
     "execution_count": 75,
     "metadata": {},
     "output_type": "execute_result"
    }
   ],
   "source": [
    "list(map(str_c , l))"
   ]
  },
  {
   "cell_type": "code",
   "execution_count": 76,
   "id": "e346cbff",
   "metadata": {},
   "outputs": [
    {
     "data": {
      "text/plain": [
       "[2, 3, 4, 5, 5, 6]"
      ]
     },
     "execution_count": 76,
     "metadata": {},
     "output_type": "execute_result"
    }
   ],
   "source": [
    "l"
   ]
  },
  {
   "cell_type": "code",
   "execution_count": 113,
   "id": "5e0e6bfb",
   "metadata": {},
   "outputs": [],
   "source": [
    "xy = lambda x: print(x%2)"
   ]
  },
  {
   "cell_type": "code",
   "execution_count": 117,
   "id": "ad9647bf",
   "metadata": {},
   "outputs": [
    {
     "name": "stdout",
     "output_type": "stream",
     "text": [
      "0\n"
     ]
    }
   ],
   "source": [
    "xy(100)"
   ]
  },
  {
   "cell_type": "code",
   "execution_count": 78,
   "id": "c1b29f38",
   "metadata": {},
   "outputs": [],
   "source": [
    "def modd(n):\n",
    "    return n%2"
   ]
  },
  {
   "cell_type": "code",
   "execution_count": 80,
   "id": "90a7dae2",
   "metadata": {},
   "outputs": [
    {
     "data": {
      "text/plain": [
       "0"
      ]
     },
     "execution_count": 80,
     "metadata": {},
     "output_type": "execute_result"
    }
   ],
   "source": [
    "modd(4)"
   ]
  },
  {
   "cell_type": "code",
   "execution_count": 82,
   "id": "bea01dc6",
   "metadata": {},
   "outputs": [],
   "source": [
    "greet = lambda : print('Hello World')"
   ]
  },
  {
   "cell_type": "code",
   "execution_count": 83,
   "id": "729bb7c2",
   "metadata": {},
   "outputs": [
    {
     "data": {
      "text/plain": [
       "<function __main__.<lambda>()>"
      ]
     },
     "execution_count": 83,
     "metadata": {},
     "output_type": "execute_result"
    }
   ],
   "source": [
    "greet"
   ]
  },
  {
   "cell_type": "code",
   "execution_count": 84,
   "id": "11382b44",
   "metadata": {},
   "outputs": [
    {
     "name": "stdout",
     "output_type": "stream",
     "text": [
      "Hello World\n"
     ]
    }
   ],
   "source": [
    "greet()"
   ]
  },
  {
   "cell_type": "code",
   "execution_count": 108,
   "id": "6a4cd31f",
   "metadata": {},
   "outputs": [],
   "source": [
    "# lambda that accepts one argument\n",
    "greet_user = lambda name : print('Hey there,', name)\n"
   ]
  },
  {
   "cell_type": "code",
   "execution_count": 109,
   "id": "58d9bf54",
   "metadata": {},
   "outputs": [
    {
     "name": "stdout",
     "output_type": "stream",
     "text": [
      "Hey there, Delilah\n"
     ]
    }
   ],
   "source": [
    "greet_user('Delilah')"
   ]
  },
  {
   "cell_type": "markdown",
   "id": "beec77c9",
   "metadata": {},
   "source": [
    "# Function"
   ]
  },
  {
   "cell_type": "code",
   "execution_count": 118,
   "id": "9fe089d0",
   "metadata": {},
   "outputs": [],
   "source": [
    "def test(a , b) :\n",
    "    \"\"\"this is my function for concatination or addition \"\"\"\n",
    "    return a + b"
   ]
  },
  {
   "cell_type": "code",
   "execution_count": 119,
   "id": "dd997978",
   "metadata": {},
   "outputs": [
    {
     "data": {
      "text/plain": [
       "8"
      ]
     },
     "execution_count": 119,
     "metadata": {},
     "output_type": "execute_result"
    }
   ],
   "source": [
    "test(2, 6)"
   ]
  },
  {
   "cell_type": "code",
   "execution_count": 121,
   "id": "a80bbf2f",
   "metadata": {},
   "outputs": [
    {
     "data": {
      "text/plain": [
       "'amit Da'"
      ]
     },
     "execution_count": 121,
     "metadata": {},
     "output_type": "execute_result"
    }
   ],
   "source": [
    "test(\"amit\", \" Da\")"
   ]
  },
  {
   "cell_type": "code",
   "execution_count": 123,
   "id": "2e958e1a",
   "metadata": {},
   "outputs": [],
   "source": [
    "test1= lambda x, y: print(x+y)"
   ]
  },
  {
   "cell_type": "code",
   "execution_count": 124,
   "id": "a10d41ef",
   "metadata": {},
   "outputs": [
    {
     "name": "stdout",
     "output_type": "stream",
     "text": [
      "15\n"
     ]
    }
   ],
   "source": [
    "test1(6, 9)"
   ]
  },
  {
   "cell_type": "code",
   "execution_count": 125,
   "id": "f9669292",
   "metadata": {},
   "outputs": [
    {
     "data": {
      "text/plain": [
       "30"
      ]
     },
     "execution_count": 125,
     "metadata": {},
     "output_type": "execute_result"
    }
   ],
   "source": [
    "test(a =10, b=20)"
   ]
  },
  {
   "cell_type": "code",
   "execution_count": 127,
   "id": "751099ba",
   "metadata": {},
   "outputs": [],
   "source": [
    "def test2(a,b,c,d,e) :\n",
    "    return a ,b ,c,d,e"
   ]
  },
  {
   "cell_type": "code",
   "execution_count": 130,
   "id": "86ec6889",
   "metadata": {},
   "outputs": [
    {
     "data": {
      "text/plain": [
       "(2, 'a', 6.9, True, [])"
      ]
     },
     "execution_count": 130,
     "metadata": {},
     "output_type": "execute_result"
    }
   ],
   "source": [
    "test2(2, \"a\", 6.9, True, [])"
   ]
  },
  {
   "cell_type": "code",
   "execution_count": 132,
   "id": "6fe4e794",
   "metadata": {},
   "outputs": [],
   "source": [
    "def test3(*a) :\n",
    "    return a"
   ]
  },
  {
   "cell_type": "code",
   "execution_count": 134,
   "id": "237dafc9",
   "metadata": {},
   "outputs": [
    {
     "data": {
      "text/plain": [
       "(2, 'a', 6.9, True, [])"
      ]
     },
     "execution_count": 134,
     "metadata": {},
     "output_type": "execute_result"
    }
   ],
   "source": [
    "test3(2, \"a\", 6.9, True, [])"
   ]
  },
  {
   "cell_type": "code",
   "execution_count": 135,
   "id": "b3659466",
   "metadata": {},
   "outputs": [],
   "source": [
    "def test4(*a) :\n",
    "    l = []\n",
    "    for i in a :\n",
    "        l.append(i)\n",
    "    return l"
   ]
  },
  {
   "cell_type": "code",
   "execution_count": 137,
   "id": "56baf71c",
   "metadata": {},
   "outputs": [
    {
     "data": {
      "text/plain": [
       "[3, 7, 9, 3, 7]"
      ]
     },
     "execution_count": 137,
     "metadata": {},
     "output_type": "execute_result"
    }
   ],
   "source": [
    "test4(3, 7,9,3,7)"
   ]
  },
  {
   "cell_type": "code",
   "execution_count": null,
   "id": "347c80f8",
   "metadata": {},
   "outputs": [],
   "source": []
  }
 ],
 "metadata": {
  "kernelspec": {
   "display_name": "Python 3 (ipykernel)",
   "language": "python",
   "name": "python3"
  },
  "language_info": {
   "codemirror_mode": {
    "name": "ipython",
    "version": 3
   },
   "file_extension": ".py",
   "mimetype": "text/x-python",
   "name": "python",
   "nbconvert_exporter": "python",
   "pygments_lexer": "ipython3",
   "version": "3.11.5"
  }
 },
 "nbformat": 4,
 "nbformat_minor": 5
}
