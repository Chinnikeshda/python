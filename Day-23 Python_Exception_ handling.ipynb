{
 "cells": [
  {
   "cell_type": "markdown",
   "id": "298a4366",
   "metadata": {},
   "source": [
    "# Try and Except"
   ]
  },
  {
   "cell_type": "code",
   "execution_count": 2,
   "id": "1b456d02",
   "metadata": {},
   "outputs": [],
   "source": [
    "a = 1\n",
    "b = 2"
   ]
  },
  {
   "cell_type": "code",
   "execution_count": 3,
   "id": "0957659c",
   "metadata": {},
   "outputs": [
    {
     "data": {
      "text/plain": [
       "0.5"
      ]
     },
     "execution_count": 3,
     "metadata": {},
     "output_type": "execute_result"
    }
   ],
   "source": [
    "a /b"
   ]
  },
  {
   "cell_type": "code",
   "execution_count": 4,
   "id": "635a9117",
   "metadata": {},
   "outputs": [],
   "source": [
    "a = 1\n",
    "b = 0"
   ]
  },
  {
   "cell_type": "code",
   "execution_count": 5,
   "id": "3d19846e",
   "metadata": {},
   "outputs": [
    {
     "ename": "ZeroDivisionError",
     "evalue": "division by zero",
     "output_type": "error",
     "traceback": [
      "\u001b[1;31m---------------------------------------------------------------------------\u001b[0m",
      "\u001b[1;31mZeroDivisionError\u001b[0m                         Traceback (most recent call last)",
      "Cell \u001b[1;32mIn[5], line 1\u001b[0m\n\u001b[1;32m----> 1\u001b[0m a\u001b[38;5;241m/\u001b[39mb\n",
      "\u001b[1;31mZeroDivisionError\u001b[0m: division by zero"
     ]
    }
   ],
   "source": [
    "a/b"
   ]
  },
  {
   "cell_type": "code",
   "execution_count": 6,
   "id": "05908dc3",
   "metadata": {},
   "outputs": [
    {
     "ename": "NameError",
     "evalue": "name 'c' is not defined",
     "output_type": "error",
     "traceback": [
      "\u001b[1;31m---------------------------------------------------------------------------\u001b[0m",
      "\u001b[1;31mNameError\u001b[0m                                 Traceback (most recent call last)",
      "Cell \u001b[1;32mIn[6], line 1\u001b[0m\n\u001b[1;32m----> 1\u001b[0m c\n",
      "\u001b[1;31mNameError\u001b[0m: name 'c' is not defined"
     ]
    }
   ],
   "source": [
    "c"
   ]
  },
  {
   "cell_type": "code",
   "execution_count": 7,
   "id": "e5d640cd",
   "metadata": {},
   "outputs": [
    {
     "ename": "SyntaxError",
     "evalue": "unterminated string literal (detected at line 1) (2864217273.py, line 1)",
     "output_type": "error",
     "traceback": [
      "\u001b[1;36m  Cell \u001b[1;32mIn[7], line 1\u001b[1;36m\u001b[0m\n\u001b[1;33m    print(\"asdf)\u001b[0m\n\u001b[1;37m          ^\u001b[0m\n\u001b[1;31mSyntaxError\u001b[0m\u001b[1;31m:\u001b[0m unterminated string literal (detected at line 1)\n"
     ]
    }
   ],
   "source": [
    "print(\"asdf)"
   ]
  },
  {
   "cell_type": "code",
   "execution_count": 8,
   "id": "80cb3782",
   "metadata": {},
   "outputs": [
    {
     "ename": "FileNotFoundError",
     "evalue": "[Errno 2] No such file or directory: 'amit.txt'",
     "output_type": "error",
     "traceback": [
      "\u001b[1;31m---------------------------------------------------------------------------\u001b[0m",
      "\u001b[1;31mFileNotFoundError\u001b[0m                         Traceback (most recent call last)",
      "Cell \u001b[1;32mIn[8], line 1\u001b[0m\n\u001b[1;32m----> 1\u001b[0m f \u001b[38;5;241m=\u001b[39m \u001b[38;5;28mopen\u001b[39m(\u001b[38;5;124m\"\u001b[39m\u001b[38;5;124mamit.txt\u001b[39m\u001b[38;5;124m\"\u001b[39m , \u001b[38;5;124m\"\u001b[39m\u001b[38;5;124mr\u001b[39m\u001b[38;5;124m\"\u001b[39m)\n\u001b[0;32m      2\u001b[0m \u001b[38;5;28mprint\u001b[39m(\u001b[38;5;124m\"\u001b[39m\u001b[38;5;124mthis is my code to handle an exception \u001b[39m\u001b[38;5;124m\"\u001b[39m)\n",
      "File \u001b[1;32m~\\AppData\\Local\\anaconda3\\Lib\\site-packages\\IPython\\core\\interactiveshell.py:286\u001b[0m, in \u001b[0;36m_modified_open\u001b[1;34m(file, *args, **kwargs)\u001b[0m\n\u001b[0;32m    279\u001b[0m \u001b[38;5;28;01mif\u001b[39;00m file \u001b[38;5;129;01min\u001b[39;00m {\u001b[38;5;241m0\u001b[39m, \u001b[38;5;241m1\u001b[39m, \u001b[38;5;241m2\u001b[39m}:\n\u001b[0;32m    280\u001b[0m     \u001b[38;5;28;01mraise\u001b[39;00m \u001b[38;5;167;01mValueError\u001b[39;00m(\n\u001b[0;32m    281\u001b[0m         \u001b[38;5;124mf\u001b[39m\u001b[38;5;124m\"\u001b[39m\u001b[38;5;124mIPython won\u001b[39m\u001b[38;5;124m'\u001b[39m\u001b[38;5;124mt let you open fd=\u001b[39m\u001b[38;5;132;01m{\u001b[39;00mfile\u001b[38;5;132;01m}\u001b[39;00m\u001b[38;5;124m by default \u001b[39m\u001b[38;5;124m\"\u001b[39m\n\u001b[0;32m    282\u001b[0m         \u001b[38;5;124m\"\u001b[39m\u001b[38;5;124mas it is likely to crash IPython. If you know what you are doing, \u001b[39m\u001b[38;5;124m\"\u001b[39m\n\u001b[0;32m    283\u001b[0m         \u001b[38;5;124m\"\u001b[39m\u001b[38;5;124myou can use builtins\u001b[39m\u001b[38;5;124m'\u001b[39m\u001b[38;5;124m open.\u001b[39m\u001b[38;5;124m\"\u001b[39m\n\u001b[0;32m    284\u001b[0m     )\n\u001b[1;32m--> 286\u001b[0m \u001b[38;5;28;01mreturn\u001b[39;00m io_open(file, \u001b[38;5;241m*\u001b[39margs, \u001b[38;5;241m*\u001b[39m\u001b[38;5;241m*\u001b[39mkwargs)\n",
      "\u001b[1;31mFileNotFoundError\u001b[0m: [Errno 2] No such file or directory: 'amit.txt'"
     ]
    }
   ],
   "source": [
    "f = open(\"amit.txt\" , \"r\")\n",
    "print(\"this is my code to handle an exception \")"
   ]
  },
  {
   "cell_type": "code",
   "execution_count": 9,
   "id": "6c28535d",
   "metadata": {},
   "outputs": [
    {
     "name": "stdout",
     "output_type": "stream",
     "text": [
      "Enter the number\n",
      "4\n",
      "4  is even number\n",
      "Enter the number\n",
      "5\n",
      "5  is odd number\n",
      "Enter first number \n",
      "12\n",
      "Enter second number \n",
      "34\n",
      "First number is smaller than second\n"
     ]
    }
   ],
   "source": [
    "number = int(input(\"Enter the number\\n\"))\n",
    "\n",
    "if number % 2 == 0 :   # if entered number is even then only message is shown to the user\n",
    "    print(number ,\" is even number\") \n",
    "    \n",
    "number = int(input(\"Enter the number\\n\"))\n",
    "\n",
    "if number % 2 == 0 :   # if entered number is even then only message is shown to the user\n",
    "    print(number ,\" is even number\") \n",
    "else :\n",
    "    print(number ,\" is odd number\")    \n",
    "    \n",
    "number1 = int(input(\"Enter first number \\n\"))\n",
    "number2 = int(input(\"Enter second number \\n\"))\n",
    "\n",
    "if number1 == number2:\n",
    "    print(\"Both numbers are same\")\n",
    "else:\n",
    "    if number1 > number2:\n",
    "        print(\"First number is bigger than second\")\n",
    "    else:\n",
    "        print(\"First number is smaller than second\")    "
   ]
  },
  {
   "cell_type": "code",
   "execution_count": 10,
   "id": "1609bcec",
   "metadata": {},
   "outputs": [
    {
     "name": "stdout",
     "output_type": "stream",
     "text": [
      "Enter the number\n",
      "7\n",
      "Enter the number\n",
      "4\n",
      "4  is even number\n",
      "Enter first number \n",
      "122\n",
      "Enter second number \n",
      "a\n"
     ]
    },
    {
     "ename": "ValueError",
     "evalue": "invalid literal for int() with base 10: 'a'",
     "output_type": "error",
     "traceback": [
      "\u001b[1;31m---------------------------------------------------------------------------\u001b[0m",
      "\u001b[1;31mValueError\u001b[0m                                Traceback (most recent call last)",
      "Cell \u001b[1;32mIn[10], line 14\u001b[0m\n\u001b[0;32m     11\u001b[0m     \u001b[38;5;28mprint\u001b[39m(number ,\u001b[38;5;124m\"\u001b[39m\u001b[38;5;124m is odd number\u001b[39m\u001b[38;5;124m\"\u001b[39m)    \n\u001b[0;32m     13\u001b[0m number1 \u001b[38;5;241m=\u001b[39m \u001b[38;5;28mint\u001b[39m(\u001b[38;5;28minput\u001b[39m(\u001b[38;5;124m\"\u001b[39m\u001b[38;5;124mEnter first number \u001b[39m\u001b[38;5;130;01m\\n\u001b[39;00m\u001b[38;5;124m\"\u001b[39m))\n\u001b[1;32m---> 14\u001b[0m number2 \u001b[38;5;241m=\u001b[39m \u001b[38;5;28mint\u001b[39m(\u001b[38;5;28minput\u001b[39m(\u001b[38;5;124m\"\u001b[39m\u001b[38;5;124mEnter second number \u001b[39m\u001b[38;5;130;01m\\n\u001b[39;00m\u001b[38;5;124m\"\u001b[39m))\n\u001b[0;32m     16\u001b[0m \u001b[38;5;28;01mif\u001b[39;00m number1 \u001b[38;5;241m==\u001b[39m number2:\n\u001b[0;32m     17\u001b[0m     \u001b[38;5;28mprint\u001b[39m(\u001b[38;5;124m\"\u001b[39m\u001b[38;5;124mBoth numbers are same\u001b[39m\u001b[38;5;124m\"\u001b[39m)\n",
      "\u001b[1;31mValueError\u001b[0m: invalid literal for int() with base 10: 'a'"
     ]
    }
   ],
   "source": [
    "number = int(input(\"Enter the number\\n\"))\n",
    "\n",
    "if number % 2 == 0 :   # if entered number is even then only message is shown to the user\n",
    "    print(number ,\" is even number\") \n",
    "    \n",
    "number = int(input(\"Enter the number\\n\"))\n",
    "\n",
    "if number % 2 == 0 :   # if entered number is even then only message is shown to the user\n",
    "    print(number ,\" is even number\") \n",
    "else :\n",
    "    print(number ,\" is odd number\")    \n",
    "    \n",
    "number1 = int(input(\"Enter first number \\n\"))\n",
    "number2 = int(input(\"Enter second number \\n\"))\n",
    "\n",
    "if number1 == number2:\n",
    "    print(\"Both numbers are same\")\n",
    "else:\n",
    "    if number1 > number2:\n",
    "        print(\"First number is bigger than second\")\n",
    "    else:\n",
    "        print(\"First number is smaller than second\")"
   ]
  },
  {
   "cell_type": "code",
   "execution_count": 11,
   "id": "8be09042",
   "metadata": {},
   "outputs": [
    {
     "name": "stdout",
     "output_type": "stream",
     "text": [
      "Enter the number\n",
      "4\n",
      "4  is even number\n",
      "Enter the number\n",
      "7\n",
      "7  is odd number\n",
      "Enter first number \n",
      "s\n"
     ]
    },
    {
     "ename": "ValueError",
     "evalue": "invalid literal for int() with base 10: 's'",
     "output_type": "error",
     "traceback": [
      "\u001b[1;31m---------------------------------------------------------------------------\u001b[0m",
      "\u001b[1;31mValueError\u001b[0m                                Traceback (most recent call last)",
      "Cell \u001b[1;32mIn[11], line 13\u001b[0m\n\u001b[0;32m     10\u001b[0m \u001b[38;5;28;01melse\u001b[39;00m :\n\u001b[0;32m     11\u001b[0m     \u001b[38;5;28mprint\u001b[39m(number ,\u001b[38;5;124m\"\u001b[39m\u001b[38;5;124m is odd number\u001b[39m\u001b[38;5;124m\"\u001b[39m)    \n\u001b[1;32m---> 13\u001b[0m number1 \u001b[38;5;241m=\u001b[39m \u001b[38;5;28mint\u001b[39m(\u001b[38;5;28minput\u001b[39m(\u001b[38;5;124m\"\u001b[39m\u001b[38;5;124mEnter first number \u001b[39m\u001b[38;5;130;01m\\n\u001b[39;00m\u001b[38;5;124m\"\u001b[39m))\n\u001b[0;32m     14\u001b[0m number2 \u001b[38;5;241m=\u001b[39m \u001b[38;5;28mint\u001b[39m(\u001b[38;5;28minput\u001b[39m(\u001b[38;5;124m\"\u001b[39m\u001b[38;5;124mEnter second number \u001b[39m\u001b[38;5;130;01m\\n\u001b[39;00m\u001b[38;5;124m\"\u001b[39m))\n\u001b[0;32m     16\u001b[0m \u001b[38;5;28;01mif\u001b[39;00m number1 \u001b[38;5;241m==\u001b[39m number2:\n",
      "\u001b[1;31mValueError\u001b[0m: invalid literal for int() with base 10: 's'"
     ]
    }
   ],
   "source": [
    "number = int(input(\"Enter the number\\n\"))\n",
    "\n",
    "if number % 2 == 0 :   # if entered number is even then only message is shown to the user\n",
    "    print(number ,\" is even number\") \n",
    "    \n",
    "number = int(input(\"Enter the number\\n\"))\n",
    "\n",
    "if number % 2 == 0 :   # if entered number is even then only message is shown to the user\n",
    "    print(number ,\" is even number\") \n",
    "else :\n",
    "    print(number ,\" is odd number\")    \n",
    "    \n",
    "number1 = int(input(\"Enter first number \\n\"))\n",
    "number2 = int(input(\"Enter second number \\n\"))\n",
    "\n",
    "if number1 == number2:\n",
    "    print(\"Both numbers are same\")\n",
    "else:\n",
    "    if number1 > number2:\n",
    "        print(\"First number is bigger than second\")\n",
    "    else:\n",
    "        print(\"First number is smaller than second\")"
   ]
  },
  {
   "cell_type": "markdown",
   "id": "722dd3fa",
   "metadata": {},
   "source": [
    "#### difference between if else and try except"
   ]
  },
  {
   "cell_type": "code",
   "execution_count": 12,
   "id": "f4b1a52c",
   "metadata": {},
   "outputs": [
    {
     "name": "stdout",
     "output_type": "stream",
     "text": [
      "1.0\n"
     ]
    }
   ],
   "source": [
    "try :\n",
    "    a = 10 \n",
    "    print(a/10)\n",
    "except:\n",
    "    print(\"this will be my final code after handling an exception \")"
   ]
  },
  {
   "cell_type": "code",
   "execution_count": 13,
   "id": "5f1e0790",
   "metadata": {},
   "outputs": [
    {
     "name": "stdout",
     "output_type": "stream",
     "text": [
      "this will be my final code after handling an exception \n"
     ]
    }
   ],
   "source": [
    "try :\n",
    "    a = 10 \n",
    "    print(a/0)\n",
    "except:\n",
    "    print(\"this will be my final code after handling an exception \")"
   ]
  },
  {
   "cell_type": "code",
   "execution_count": 14,
   "id": "0275d94d",
   "metadata": {},
   "outputs": [
    {
     "name": "stdout",
     "output_type": "stream",
     "text": [
      "5.0\n",
      "Enter the number\n",
      "5\n"
     ]
    }
   ],
   "source": [
    "try :\n",
    "    a = 10 \n",
    "    print(a/2)\n",
    "except:\n",
    "    print(\"this will be my final code after handling an exception \")\n",
    "    \n",
    "number = int(input(\"Enter the number\\n\"))\n",
    "\n",
    "if number % 2 == 0 :   # if block can consists of more than one statements, here two print statements are printed if condiotn is true\n",
    "    print(\"You have entered \", number)\n",
    "    print(number ,\" is even number\")"
   ]
  },
  {
   "cell_type": "code",
   "execution_count": 15,
   "id": "5f609860",
   "metadata": {},
   "outputs": [
    {
     "name": "stdout",
     "output_type": "stream",
     "text": [
      "this will be my final code after handling an exception \n",
      "Enter the number\n",
      "6\n",
      "You have entered  6\n",
      "6  is even number\n"
     ]
    }
   ],
   "source": [
    "try :\n",
    "    a = 10 \n",
    "    print(a/0)\n",
    "except:\n",
    "    print(\"this will be my final code after handling an exception \")\n",
    "    \n",
    "number = int(input(\"Enter the number\\n\"))\n",
    "if number % 2 == 0 :   # if block can consists of more than one statements, here two print statements are printed if condiotn is true\n",
    "    print(\"You have entered \", number)\n",
    "    print(number ,\" is even number\")"
   ]
  },
  {
   "cell_type": "code",
   "execution_count": 16,
   "id": "3f711f8d",
   "metadata": {},
   "outputs": [
    {
     "ename": "ZeroDivisionError",
     "evalue": "division by zero",
     "output_type": "error",
     "traceback": [
      "\u001b[1;31m---------------------------------------------------------------------------\u001b[0m",
      "\u001b[1;31mZeroDivisionError\u001b[0m                         Traceback (most recent call last)",
      "Cell \u001b[1;32mIn[16], line 3\u001b[0m\n\u001b[0;32m      1\u001b[0m \u001b[38;5;66;03m#try :\u001b[39;00m\n\u001b[0;32m      2\u001b[0m a \u001b[38;5;241m=\u001b[39m \u001b[38;5;241m10\u001b[39m \n\u001b[1;32m----> 3\u001b[0m \u001b[38;5;28mprint\u001b[39m(a\u001b[38;5;241m/\u001b[39m\u001b[38;5;241m0\u001b[39m)\n\u001b[0;32m      4\u001b[0m \u001b[38;5;66;03m#except:\u001b[39;00m\n\u001b[0;32m      5\u001b[0m     \u001b[38;5;66;03m#print(\"this will be my final code after handling an exception \")\u001b[39;00m\n\u001b[0;32m      7\u001b[0m number \u001b[38;5;241m=\u001b[39m \u001b[38;5;28mint\u001b[39m(\u001b[38;5;28minput\u001b[39m(\u001b[38;5;124m\"\u001b[39m\u001b[38;5;124mEnter the number\u001b[39m\u001b[38;5;130;01m\\n\u001b[39;00m\u001b[38;5;124m\"\u001b[39m))\n",
      "\u001b[1;31mZeroDivisionError\u001b[0m: division by zero"
     ]
    }
   ],
   "source": [
    "#try :\n",
    "a = 10 \n",
    "print(a/0)\n",
    "#except:\n",
    "    #print(\"this will be my final code after handling an exception \")\n",
    "    \n",
    "number = int(input(\"Enter the number\\n\"))\n",
    "if number % 2 == 0 :   # if block can consists of more than one statements, here two print statements are printed if condiotn is true\n",
    "    print(\"You have entered \", number)\n",
    "    print(number ,\" is even number\")"
   ]
  },
  {
   "cell_type": "code",
   "execution_count": 18,
   "id": "80f9052e",
   "metadata": {},
   "outputs": [
    {
     "name": "stdout",
     "output_type": "stream",
     "text": [
      "this will be my final code after handling an exception \n"
     ]
    }
   ],
   "source": [
    "try :\n",
    "    a = 10 \n",
    "    print(a/0)\n",
    "except:\n",
    "    print(\"this will be my final code after handling an exception \")"
   ]
  },
  {
   "cell_type": "code",
   "execution_count": 20,
   "id": "32bfdf64",
   "metadata": {},
   "outputs": [
    {
     "name": "stdout",
     "output_type": "stream",
     "text": [
      "division by zero\n"
     ]
    }
   ],
   "source": [
    "try :\n",
    "    a = 10 \n",
    "    print(a/0)\n",
    "except Exception as e:\n",
    "    print(e)\n",
    "     "
   ]
  },
  {
   "cell_type": "code",
   "execution_count": 21,
   "id": "0d44b648",
   "metadata": {},
   "outputs": [
    {
     "name": "stdout",
     "output_type": "stream",
     "text": [
      "[Errno 2] No such file or directory: 'sudhanshu.txt'\n"
     ]
    }
   ],
   "source": [
    "try :\n",
    "    f = open(\"sudhanshu.txt\" , \"r\")\n",
    "except Exception as e :\n",
    "    print(e)"
   ]
  },
  {
   "cell_type": "code",
   "execution_count": 22,
   "id": "04f8c98a",
   "metadata": {},
   "outputs": [
    {
     "name": "stdout",
     "output_type": "stream",
     "text": [
      "[Errno 2] No such file or directory: 'sudh.txt r'\n",
      "this is not my suspicious set of the code \n"
     ]
    }
   ],
   "source": [
    "try :\n",
    "    f = open(\"sudh.txt\" \"r\")\n",
    "    f.write(\"this is my suspicuous code \")\n",
    "except Exception as e : \n",
    "    print(e)\n",
    "    print(\"this is not my suspicious set of the code \")"
   ]
  },
  {
   "cell_type": "code",
   "execution_count": 23,
   "id": "3dadd29f",
   "metadata": {},
   "outputs": [
    {
     "name": "stdout",
     "output_type": "stream",
     "text": [
      "[Errno 2] No such file or directory: 'sudh.txt r'\n",
      "this is  not my suspicious set of the code \n",
      "this block will be executed anytime \n"
     ]
    }
   ],
   "source": [
    "try :\n",
    "    f = open(\"sudh.txt\" \" r\")\n",
    "    f.write(\"this is my suspicuous code \")\n",
    "except Exception as e : \n",
    "    print(e)\n",
    "    print(\"this is  not my suspicious set of the code \")\n",
    "finally :\n",
    "    print(\"this block will be executed anytime \")"
   ]
  },
  {
   "cell_type": "code",
   "execution_count": 27,
   "id": "26006dd6",
   "metadata": {},
   "outputs": [
    {
     "name": "stdout",
     "output_type": "stream",
     "text": [
      "division by zero\n",
      "this is not my code\n"
     ]
    }
   ],
   "source": [
    "try :\n",
    "    a = 10 \n",
    "    print(a/0)\n",
    "except Exception as e:\n",
    "    print(e)\n",
    "finally:\n",
    "    print(\"this is not my code\")"
   ]
  },
  {
   "cell_type": "code",
   "execution_count": 29,
   "id": "6ec57ff5",
   "metadata": {},
   "outputs": [],
   "source": [
    "def askint():\n",
    "    try :\n",
    "        val = int(input(\"plese enter an interger \"))\n",
    "    except:\n",
    "        print(\"no you have not entered an  integer \")\n",
    "        try :\n",
    "            val = int(input(\"plese enter an interger \"))\n",
    "        except : \n",
    "            print(\"we are able to handle your mistake second time \")\n",
    "    finally : \n",
    "         print(\"finally will be executed anyhow \")"
   ]
  },
  {
   "cell_type": "code",
   "execution_count": 30,
   "id": "f77cc30e",
   "metadata": {},
   "outputs": [
    {
     "name": "stdout",
     "output_type": "stream",
     "text": [
      "plese enter an interger y\n",
      "no you have not entered an  integer \n",
      "plese enter an interger 7.0\n",
      "we are able to handle your mistake second time \n",
      "finally will be executed anyhow \n"
     ]
    }
   ],
   "source": [
    "askint()"
   ]
  },
  {
   "cell_type": "code",
   "execution_count": 31,
   "id": "c53ad4b1",
   "metadata": {},
   "outputs": [
    {
     "name": "stdout",
     "output_type": "stream",
     "text": [
      "plese enter an interger 6\n",
      "finally will be executed anyhow \n"
     ]
    }
   ],
   "source": [
    "askint()"
   ]
  },
  {
   "cell_type": "code",
   "execution_count": 32,
   "id": "3a44dff5",
   "metadata": {},
   "outputs": [],
   "source": [
    "def askfloat():\n",
    "    try :\n",
    "        val = float(input(\"plese enter an interger \"))\n",
    "    except Exception as e:\n",
    "        print(e)\n",
    "        print(\"no you have not entered an  integer \")\n",
    "        try :\n",
    "            val = float(input(\"plese enter an interger \"))\n",
    "        except : \n",
    "            print(\"we are able to handle your mistake second time \")\n",
    "    finally : \n",
    "         print(\"finally will be executed anyhow \")"
   ]
  },
  {
   "cell_type": "code",
   "execution_count": 33,
   "id": "c7d62ecd",
   "metadata": {},
   "outputs": [
    {
     "name": "stdout",
     "output_type": "stream",
     "text": [
      "plese enter an interger 5\n",
      "finally will be executed anyhow \n"
     ]
    }
   ],
   "source": [
    "askfloat()"
   ]
  },
  {
   "cell_type": "code",
   "execution_count": 34,
   "id": "2c79c2bb",
   "metadata": {},
   "outputs": [
    {
     "name": "stdout",
     "output_type": "stream",
     "text": [
      "plese enter an interger e\n",
      "could not convert string to float: 'e'\n",
      "no you have not entered an  integer \n",
      "plese enter an interger 4\n",
      "finally will be executed anyhow \n"
     ]
    }
   ],
   "source": [
    "askfloat()"
   ]
  },
  {
   "cell_type": "code",
   "execution_count": 35,
   "id": "ee278ce2",
   "metadata": {},
   "outputs": [],
   "source": [
    "def askint1():\n",
    "    while True :\n",
    "        try :\n",
    "            val = int(input(\"please try to input an interger \"))\n",
    "            break \n",
    "        except : \n",
    "            print(\"looks like you have not enterd an integer \")\n",
    "            continue"
   ]
  },
  {
   "cell_type": "code",
   "execution_count": 36,
   "id": "77245623",
   "metadata": {},
   "outputs": [
    {
     "name": "stdout",
     "output_type": "stream",
     "text": [
      "please try to input an interger 6\n"
     ]
    }
   ],
   "source": [
    "askint1()"
   ]
  },
  {
   "cell_type": "code",
   "execution_count": 37,
   "id": "4eff4688",
   "metadata": {},
   "outputs": [
    {
     "name": "stdout",
     "output_type": "stream",
     "text": [
      "please try to input an interger 2.5\n",
      "looks like you have not enterd an integer \n",
      "please try to input an interger k\n",
      "looks like you have not enterd an integer \n",
      "please try to input an interger p\n",
      "looks like you have not enterd an integer \n",
      "please try to input an interger r\n",
      "looks like you have not enterd an integer \n",
      "please try to input an interger 9.0\n",
      "looks like you have not enterd an integer \n",
      "please try to input an interger 7.0\n",
      "looks like you have not enterd an integer \n",
      "looks like you have not enterd an integer \n",
      "looks like you have not enterd an integer \n",
      "looks like you have not enterd an integer \n",
      "please try to input an interger 5\n"
     ]
    }
   ],
   "source": [
    "askint1()"
   ]
  },
  {
   "cell_type": "code",
   "execution_count": 38,
   "id": "23bbc462",
   "metadata": {},
   "outputs": [],
   "source": [
    "def askint1():\n",
    "    while True :\n",
    "        try :\n",
    "            val = int(input(\"please try to input an interger \"))\n",
    "            break \n",
    "        except : \n",
    "            print(\"looks like you have not enterd an integer \")\n",
    "            "
   ]
  },
  {
   "cell_type": "code",
   "execution_count": 39,
   "id": "55addd97",
   "metadata": {},
   "outputs": [
    {
     "name": "stdout",
     "output_type": "stream",
     "text": [
      "please try to input an interger 8.0\n",
      "looks like you have not enterd an integer \n",
      "please try to input an interger e\n",
      "looks like you have not enterd an integer \n",
      "please try to input an interger yu\n",
      "looks like you have not enterd an integer \n",
      "please try to input an interger 4.0\n",
      "looks like you have not enterd an integer \n",
      "please try to input an interger 4\n"
     ]
    }
   ],
   "source": [
    "askint1()"
   ]
  },
  {
   "cell_type": "code",
   "execution_count": 40,
   "id": "f33d3e3c",
   "metadata": {},
   "outputs": [],
   "source": [
    "def askint1():\n",
    "    while True :\n",
    "        try :\n",
    "            val = int(input(\"please try to input an interger \"))\n",
    "            break \n",
    "        except : \n",
    "            print(\"looks like you have not enterd an integer \")\n",
    "            break"
   ]
  },
  {
   "cell_type": "code",
   "execution_count": 41,
   "id": "8820541f",
   "metadata": {},
   "outputs": [
    {
     "name": "stdout",
     "output_type": "stream",
     "text": [
      "please try to input an interger 0.8\n",
      "looks like you have not enterd an integer \n"
     ]
    }
   ],
   "source": [
    "askint1()"
   ]
  },
  {
   "cell_type": "code",
   "execution_count": 42,
   "id": "7f77dde7",
   "metadata": {},
   "outputs": [],
   "source": [
    "def askint2():\n",
    "    while False :\n",
    "        try :\n",
    "            val = int(input(\"please try to input an interger \"))\n",
    "            break \n",
    "        except : \n",
    "            print(\"looks like you have not enterd an integer \")\n",
    "            continue"
   ]
  },
  {
   "cell_type": "code",
   "execution_count": 45,
   "id": "95544c85",
   "metadata": {},
   "outputs": [],
   "source": [
    "askint2()"
   ]
  },
  {
   "cell_type": "code",
   "execution_count": null,
   "id": "e1c37d0c",
   "metadata": {},
   "outputs": [],
   "source": [
    "while 2 > 3:\n",
    "    print(\"sfsdf xg\")"
   ]
  },
  {
   "cell_type": "code",
   "execution_count": 46,
   "id": "552200b5",
   "metadata": {},
   "outputs": [
    {
     "name": "stdout",
     "output_type": "stream",
     "text": [
      "please try to input an interger u\n",
      "looks like you have not enterd an integer \n",
      "please try to input an interger f\n",
      "looks like you have not enterd an integer \n",
      "please try to input an interger 9.0\n",
      "looks like you have not enterd an integer \n",
      "looks like you have not enterd an integer \n",
      "please try to input an interger 7\n"
     ]
    }
   ],
   "source": [
    "while True :\n",
    "    try :\n",
    "        val = int(input(\"please try to input an interger \"))\n",
    "        break \n",
    "    except : \n",
    "        print(\"looks like you have not enterd an integer \")"
   ]
  },
  {
   "cell_type": "code",
   "execution_count": 47,
   "id": "1d7dd806",
   "metadata": {},
   "outputs": [],
   "source": [
    "def askint3():\n",
    "    while True :\n",
    "        try :\n",
    "            val=int(input('enter integer'))\n",
    "            break\n",
    "        except :\n",
    "            print('Plz enter integer')\n",
    "            continue\n",
    "        finally :\n",
    "            print(\"it will be executed always\")"
   ]
  },
  {
   "cell_type": "code",
   "execution_count": 48,
   "id": "b8c0e64d",
   "metadata": {},
   "outputs": [
    {
     "name": "stdout",
     "output_type": "stream",
     "text": [
      "enter integert\n",
      "Plz enter integer\n",
      "it will be executed always\n",
      "enter integer5.5\n",
      "Plz enter integer\n",
      "it will be executed always\n",
      "enter integer5\n",
      "it will be executed always\n"
     ]
    }
   ],
   "source": [
    "askint3()"
   ]
  },
  {
   "cell_type": "code",
   "execution_count": 52,
   "id": "ab7b70f4",
   "metadata": {},
   "outputs": [],
   "source": [
    "def check_str1(a):\n",
    "    try:\n",
    "        for i in a:\n",
    "            if type(i) == str:\n",
    "                print(i)\n",
    "    except Exception as e:\n",
    "        print(e)"
   ]
  },
  {
   "cell_type": "code",
   "execution_count": 54,
   "id": "69de2e17",
   "metadata": {},
   "outputs": [
    {
     "name": "stdout",
     "output_type": "stream",
     "text": [
      "'int' object is not iterable\n"
     ]
    }
   ],
   "source": [
    "check_str1(3434)"
   ]
  },
  {
   "cell_type": "code",
   "execution_count": 55,
   "id": "8aaa3528",
   "metadata": {},
   "outputs": [
    {
     "name": "stdout",
     "output_type": "stream",
     "text": [
      "Enter a number: e\n",
      "invalid literal for int() with base 10: 'e'\n",
      "Not an even number!\n"
     ]
    }
   ],
   "source": [
    "# program to print the reciprocal of even numbers\n",
    "\n",
    "try:\n",
    "    num = int(input(\"Enter a number: \"))\n",
    "    assert num % 2 == 0\n",
    "except Exception as e:\n",
    "    print(e)\n",
    "    print(\"Not an even number!\")\n",
    "else:\n",
    "    reciprocal = 1/num\n",
    "    print(reciprocal)"
   ]
  },
  {
   "cell_type": "code",
   "execution_count": 56,
   "id": "9fe100b2",
   "metadata": {},
   "outputs": [
    {
     "name": "stdout",
     "output_type": "stream",
     "text": [
      "Enter a number: 3\n",
      "\n",
      "Not an even number!\n"
     ]
    }
   ],
   "source": [
    "try:\n",
    "    num = int(input(\"Enter a number: \"))\n",
    "    assert num % 2 == 0\n",
    "except Exception as e:\n",
    "    print(e)\n",
    "    print(\"Not an even number!\")\n",
    "else:\n",
    "    reciprocal = 1/num\n",
    "    print(reciprocal)"
   ]
  },
  {
   "cell_type": "code",
   "execution_count": 62,
   "id": "164e0267",
   "metadata": {},
   "outputs": [
    {
     "ename": "SyntaxError",
     "evalue": "invalid syntax (4092697087.py, line 10)",
     "output_type": "error",
     "traceback": [
      "\u001b[1;36m  Cell \u001b[1;32mIn[62], line 10\u001b[1;36m\u001b[0m\n\u001b[1;33m    except:\u001b[0m\n\u001b[1;37m    ^\u001b[0m\n\u001b[1;31mSyntaxError\u001b[0m\u001b[1;31m:\u001b[0m invalid syntax\n"
     ]
    }
   ],
   "source": [
    "try:\n",
    "    num = int(input(\"Enter a number: \"))\n",
    "    assert num % 2 == 0\n",
    "except Exception as e:\n",
    "    print(e)\n",
    "    print(\"Not an even number!\")\n",
    "else:\n",
    "    reciprocal = 1/num\n",
    "    print(reciprocal)"
   ]
  },
  {
   "cell_type": "code",
   "execution_count": 59,
   "id": "a0298f9b",
   "metadata": {},
   "outputs": [
    {
     "data": {
      "text/plain": [
       "0"
      ]
     },
     "execution_count": 59,
     "metadata": {},
     "output_type": "execute_result"
    }
   ],
   "source": [
    "0%2"
   ]
  },
  {
   "cell_type": "code",
   "execution_count": 60,
   "id": "99b62b45",
   "metadata": {},
   "outputs": [
    {
     "ename": "ZeroDivisionError",
     "evalue": "division by zero",
     "output_type": "error",
     "traceback": [
      "\u001b[1;31m---------------------------------------------------------------------------\u001b[0m",
      "\u001b[1;31mZeroDivisionError\u001b[0m                         Traceback (most recent call last)",
      "Cell \u001b[1;32mIn[60], line 1\u001b[0m\n\u001b[1;32m----> 1\u001b[0m \u001b[38;5;241m1\u001b[39m\u001b[38;5;241m/\u001b[39m\u001b[38;5;241m0\u001b[39m\n",
      "\u001b[1;31mZeroDivisionError\u001b[0m: division by zero"
     ]
    }
   ],
   "source": [
    "1/0"
   ]
  },
  {
   "cell_type": "code",
   "execution_count": 63,
   "id": "34b2efd7",
   "metadata": {},
   "outputs": [
    {
     "ename": "SyntaxError",
     "evalue": "invalid syntax (3763987667.py, line 3)",
     "output_type": "error",
     "traceback": [
      "\u001b[1;36m  Cell \u001b[1;32mIn[63], line 3\u001b[1;36m\u001b[0m\n\u001b[1;33m    elif:\u001b[0m\n\u001b[1;37m        ^\u001b[0m\n\u001b[1;31mSyntaxError\u001b[0m\u001b[1;31m:\u001b[0m invalid syntax\n"
     ]
    }
   ],
   "source": [
    "if a == 0:\n",
    "    print(\"ggf\")\n",
    "elif:\n",
    "    print(\"  \")\n",
    "elif:\n",
    "    print(\"  \")\n",
    "    if a == 0:\n",
    "        print(\" \")\n",
    "    elif:\n",
    "        print(\"  \")\n",
    "        if b ==0:\n",
    "            print(\" \")\n",
    "        else:\n",
    "            print()\n",
    "else:\n",
    "    print()"
   ]
  },
  {
   "cell_type": "code",
   "execution_count": null,
   "id": "0d4815d1",
   "metadata": {},
   "outputs": [],
   "source": []
  }
 ],
 "metadata": {
  "kernelspec": {
   "display_name": "Python 3 (ipykernel)",
   "language": "python",
   "name": "python3"
  },
  "language_info": {
   "codemirror_mode": {
    "name": "ipython",
    "version": 3
   },
   "file_extension": ".py",
   "mimetype": "text/x-python",
   "name": "python",
   "nbconvert_exporter": "python",
   "pygments_lexer": "ipython3",
   "version": "3.11.5"
  }
 },
 "nbformat": 4,
 "nbformat_minor": 5
}
