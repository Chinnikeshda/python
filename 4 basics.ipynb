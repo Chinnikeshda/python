{
 "cells": [
  {
   "cell_type": "markdown",
   "id": "c0612d47",
   "metadata": {},
   "source": [
    "# Data Typecasting"
   ]
  },
  {
   "cell_type": "code",
   "execution_count": 1,
   "id": "78bfa328",
   "metadata": {},
   "outputs": [
    {
     "data": {
      "text/plain": [
       "1"
      ]
     },
     "execution_count": 1,
     "metadata": {},
     "output_type": "execute_result"
    }
   ],
   "source": [
    "int(1.5) #covert float to integer, loss of info"
   ]
  },
  {
   "cell_type": "code",
   "execution_count": 2,
   "id": "cc5d8927",
   "metadata": {},
   "outputs": [
    {
     "data": {
      "text/plain": [
       "int"
      ]
     },
     "execution_count": 2,
     "metadata": {},
     "output_type": "execute_result"
    }
   ],
   "source": [
    "type(int(1.5))"
   ]
  },
  {
   "cell_type": "code",
   "execution_count": 3,
   "id": "d089c186",
   "metadata": {},
   "outputs": [
    {
     "data": {
      "text/plain": [
       "1"
      ]
     },
     "execution_count": 3,
     "metadata": {},
     "output_type": "execute_result"
    }
   ],
   "source": [
    "int('1') #convert string to integer"
   ]
  },
  {
   "cell_type": "code",
   "execution_count": 4,
   "id": "5ddb022a",
   "metadata": {},
   "outputs": [
    {
     "data": {
      "text/plain": [
       "int"
      ]
     },
     "execution_count": 4,
     "metadata": {},
     "output_type": "execute_result"
    }
   ],
   "source": [
    "type(int('1'))"
   ]
  },
  {
   "cell_type": "code",
   "execution_count": 5,
   "id": "35402c81",
   "metadata": {},
   "outputs": [
    {
     "data": {
      "text/plain": [
       "int"
      ]
     },
     "execution_count": 5,
     "metadata": {},
     "output_type": "execute_result"
    }
   ],
   "source": [
    "type(2)"
   ]
  },
  {
   "cell_type": "code",
   "execution_count": 6,
   "id": "b2ab01d9",
   "metadata": {},
   "outputs": [
    {
     "data": {
      "text/plain": [
       "float"
      ]
     },
     "execution_count": 6,
     "metadata": {},
     "output_type": "execute_result"
    }
   ],
   "source": [
    "type(float(2))"
   ]
  },
  {
   "cell_type": "code",
   "execution_count": 1,
   "id": "fd9ac2c3",
   "metadata": {},
   "outputs": [
    {
     "data": {
      "text/plain": [
       "2.0"
      ]
     },
     "execution_count": 1,
     "metadata": {},
     "output_type": "execute_result"
    }
   ],
   "source": [
    "float(2)"
   ]
  },
  {
   "cell_type": "code",
   "execution_count": 4,
   "id": "359ad9d3",
   "metadata": {},
   "outputs": [
    {
     "data": {
      "text/plain": [
       "2"
      ]
     },
     "execution_count": 4,
     "metadata": {},
     "output_type": "execute_result"
    }
   ],
   "source": [
    "int(float(2.9))"
   ]
  },
  {
   "cell_type": "code",
   "execution_count": 5,
   "id": "50ca2924",
   "metadata": {},
   "outputs": [
    {
     "data": {
      "text/plain": [
       "float"
      ]
     },
     "execution_count": 5,
     "metadata": {},
     "output_type": "execute_result"
    }
   ],
   "source": [
    "type(5 + 4.5 - 3)"
   ]
  },
  {
   "cell_type": "code",
   "execution_count": 8,
   "id": "7324e124",
   "metadata": {},
   "outputs": [
    {
     "name": "stdout",
     "output_type": "stream",
     "text": [
      "<class 'str'>\n",
      "<class 'int'>\n",
      "<class 'float'>\n",
      "<class 'float'>\n"
     ]
    }
   ],
   "source": [
    "print(type('one'))\n",
    "print(type(1 or 2))\n",
    "print(type(1.4))\n",
    "print(type(1/2))"
   ]
  },
  {
   "cell_type": "code",
   "execution_count": 12,
   "id": "98676fcc",
   "metadata": {},
   "outputs": [
    {
     "name": "stdout",
     "output_type": "stream",
     "text": [
      "What is your name?--rahul\n"
     ]
    }
   ],
   "source": [
    "a = input('What is your name?--')"
   ]
  },
  {
   "cell_type": "code",
   "execution_count": 13,
   "id": "79da312a",
   "metadata": {},
   "outputs": [
    {
     "name": "stdout",
     "output_type": "stream",
     "text": [
      "Enter 1st num20\n",
      "Enter 2nd num300\n",
      "320\n"
     ]
    }
   ],
   "source": [
    "num1 = int(input(\"Enter 1st num\"))\n",
    "num2 = int(input(\"Enter 2nd num\"))\n",
    "\n",
    "print(num1+num2)"
   ]
  },
  {
   "cell_type": "code",
   "execution_count": 14,
   "id": "fcc81f80",
   "metadata": {},
   "outputs": [
    {
     "data": {
      "text/plain": [
       "str"
      ]
     },
     "execution_count": 14,
     "metadata": {},
     "output_type": "execute_result"
    }
   ],
   "source": [
    "type(a)"
   ]
  },
  {
   "cell_type": "code",
   "execution_count": 17,
   "id": "589e1328",
   "metadata": {},
   "outputs": [
    {
     "name": "stdout",
     "output_type": "stream",
     "text": [
      "4587\n"
     ]
    }
   ],
   "source": [
    "b = input()"
   ]
  },
  {
   "cell_type": "code",
   "execution_count": 18,
   "id": "ea02d472",
   "metadata": {},
   "outputs": [
    {
     "data": {
      "text/plain": [
       "str"
      ]
     },
     "execution_count": 18,
     "metadata": {},
     "output_type": "execute_result"
    }
   ],
   "source": [
    "type(b)"
   ]
  },
  {
   "cell_type": "code",
   "execution_count": 21,
   "id": "a00fdbc8",
   "metadata": {},
   "outputs": [
    {
     "name": "stdout",
     "output_type": "stream",
     "text": [
      "34\n"
     ]
    },
    {
     "data": {
      "text/plain": [
       "str"
      ]
     },
     "execution_count": 21,
     "metadata": {},
     "output_type": "execute_result"
    }
   ],
   "source": [
    "type(input())"
   ]
  },
  {
   "cell_type": "code",
   "execution_count": 24,
   "id": "4d4feec1",
   "metadata": {},
   "outputs": [
    {
     "name": "stdout",
     "output_type": "stream",
     "text": [
      "Enter 1st num10\n",
      "Enter 2nd numamit\n"
     ]
    },
    {
     "ename": "ValueError",
     "evalue": "could not convert string to float: 'amit'",
     "output_type": "error",
     "traceback": [
      "\u001b[1;31m---------------------------------------------------------------------------\u001b[0m",
      "\u001b[1;31mValueError\u001b[0m                                Traceback (most recent call last)",
      "Cell \u001b[1;32mIn[24], line 2\u001b[0m\n\u001b[0;32m      1\u001b[0m num3 \u001b[38;5;241m=\u001b[39m \u001b[38;5;28mint\u001b[39m(\u001b[38;5;28minput\u001b[39m(\u001b[38;5;124m\"\u001b[39m\u001b[38;5;124mEnter 1st num\u001b[39m\u001b[38;5;124m\"\u001b[39m))\n\u001b[1;32m----> 2\u001b[0m num4 \u001b[38;5;241m=\u001b[39m \u001b[38;5;28mfloat\u001b[39m(\u001b[38;5;28minput\u001b[39m(\u001b[38;5;124m\"\u001b[39m\u001b[38;5;124mEnter 2nd num\u001b[39m\u001b[38;5;124m\"\u001b[39m))\n\u001b[0;32m      4\u001b[0m \u001b[38;5;28mprint\u001b[39m(num3\u001b[38;5;241m+\u001b[39mnum4)\n",
      "\u001b[1;31mValueError\u001b[0m: could not convert string to float: 'amit'"
     ]
    }
   ],
   "source": [
    "num3 = int(input(\"Enter 1st num\"))\n",
    "num4 = float(input(\"Enter 2nd num\"))\n",
    "\n",
    "print(num3+num4)"
   ]
  },
  {
   "cell_type": "code",
   "execution_count": 26,
   "id": "086cf8e0",
   "metadata": {},
   "outputs": [
    {
     "name": "stdout",
     "output_type": "stream",
     "text": [
      "What is your name?\n",
      "rahul\n",
      "rahul\n"
     ]
    }
   ],
   "source": [
    "name = input('What is your name?\\n')\n",
    "print(name)"
   ]
  },
  {
   "cell_type": "code",
   "execution_count": 27,
   "id": "d7ae71e1",
   "metadata": {},
   "outputs": [
    {
     "name": "stdout",
     "output_type": "stream",
     "text": [
      "What is your age?30\n",
      "You have entered age as  30\n",
      "Type :  <class 'str'>\n"
     ]
    }
   ],
   "source": [
    "age = input('What is your age?')\n",
    "print(\"You have entered age as \", age)\n",
    "print(\"Type : \" , type(age))"
   ]
  },
  {
   "cell_type": "code",
   "execution_count": 28,
   "id": "5f98d61a",
   "metadata": {},
   "outputs": [
    {
     "name": "stdout",
     "output_type": "stream",
     "text": [
      "What is your age?\n",
      "30\n",
      "You have entered age as  30\n",
      "Type :  <class 'int'>\n"
     ]
    }
   ],
   "source": [
    "age = input('What is your age?\\n')\n",
    "modified_age = int(age)\n",
    "print(\"You have entered age as \", modified_age)\n",
    "print(\"Type : \" , type(modified_age))"
   ]
  },
  {
   "cell_type": "code",
   "execution_count": 29,
   "id": "ac0fa05a",
   "metadata": {},
   "outputs": [
    {
     "name": "stdout",
     "output_type": "stream",
     "text": [
      "What is your age?\n",
      "30\n",
      "You have entered age as  30.0\n",
      "Type :  <class 'float'>\n"
     ]
    }
   ],
   "source": [
    "age = input('What is your age?\\n')\n",
    "modified_age = float(age)\n",
    "print(\"You have entered age as \", modified_age)\n",
    "print(\"Type : \" , type(modified_age))"
   ]
  },
  {
   "cell_type": "code",
   "execution_count": 35,
   "id": "810de080",
   "metadata": {},
   "outputs": [
    {
     "name": "stdout",
     "output_type": "stream",
     "text": [
      "What is your age?\n",
      "22.8\n",
      "You have entered age as  22.8\n",
      "Type :  <class 'float'>\n"
     ]
    }
   ],
   "source": [
    "my_age = eval(input('What is your age?\\n'))\n",
    "print(\"You have entered age as \", my_age)\n",
    "print(\"Type : \" , type(my_age))"
   ]
  },
  {
   "cell_type": "code",
   "execution_count": 33,
   "id": "00f5bec0",
   "metadata": {},
   "outputs": [
    {
     "name": "stdout",
     "output_type": "stream",
     "text": [
      "What is your age?\n",
      "30\n",
      "You have entered age as  30\n",
      "Type :  <class 'int'>\n"
     ]
    }
   ],
   "source": [
    "my_age = eval(input('What is your age?\\n'))\n",
    "print(\"You have entered age as \", my_age)\n",
    "print(\"Type : \" , type(my_age))"
   ]
  },
  {
   "cell_type": "code",
   "execution_count": 39,
   "id": "41e9bbb8",
   "metadata": {},
   "outputs": [
    {
     "name": "stdout",
     "output_type": "stream",
     "text": [
      "Enter your marks\n",
      "10- 20 * 40 /55\n",
      "You have entered age as  -4.545454545454545\n"
     ]
    }
   ],
   "source": [
    "my_total_marks = eval(input('Enter your marks\\n'))\n",
    "#Enter an expression like 23 + 34 + 45 \n",
    "print(\"You have entered age as \", my_total_marks)"
   ]
  },
  {
   "cell_type": "code",
   "execution_count": 38,
   "id": "dcaafd9d",
   "metadata": {},
   "outputs": [
    {
     "name": "stdout",
     "output_type": "stream",
     "text": [
      "What is your age?\n",
      "30 + 10 + 5\n"
     ]
    },
    {
     "ename": "ValueError",
     "evalue": "invalid literal for int() with base 10: '30 + 10 + 5'",
     "output_type": "error",
     "traceback": [
      "\u001b[1;31m---------------------------------------------------------------------------\u001b[0m",
      "\u001b[1;31mValueError\u001b[0m                                Traceback (most recent call last)",
      "Cell \u001b[1;32mIn[38], line 2\u001b[0m\n\u001b[0;32m      1\u001b[0m age \u001b[38;5;241m=\u001b[39m \u001b[38;5;28minput\u001b[39m(\u001b[38;5;124m'\u001b[39m\u001b[38;5;124mWhat is your age?\u001b[39m\u001b[38;5;130;01m\\n\u001b[39;00m\u001b[38;5;124m'\u001b[39m)\n\u001b[1;32m----> 2\u001b[0m modified_age \u001b[38;5;241m=\u001b[39m \u001b[38;5;28mint\u001b[39m(age)\n\u001b[0;32m      3\u001b[0m \u001b[38;5;28mprint\u001b[39m(\u001b[38;5;124m\"\u001b[39m\u001b[38;5;124mYou have entered age as \u001b[39m\u001b[38;5;124m\"\u001b[39m, modified_age)\n\u001b[0;32m      4\u001b[0m \u001b[38;5;28mprint\u001b[39m(\u001b[38;5;124m\"\u001b[39m\u001b[38;5;124mType : \u001b[39m\u001b[38;5;124m\"\u001b[39m , \u001b[38;5;28mtype\u001b[39m(modified_age))\n",
      "\u001b[1;31mValueError\u001b[0m: invalid literal for int() with base 10: '30 + 10 + 5'"
     ]
    }
   ],
   "source": [
    "age = input('What is your age?\\n')\n",
    "modified_age = int(age)\n",
    "print(\"You have entered age as \", modified_age)\n",
    "print(\"Type : \" , type(modified_age))"
   ]
  },
  {
   "cell_type": "code",
   "execution_count": 41,
   "id": "e8352a82",
   "metadata": {},
   "outputs": [
    {
     "name": "stdout",
     "output_type": "stream",
     "text": [
      "Enter the number : 50\n",
      "Square of 50 is :  2500\n",
      "Cube of 50 is :  125000\n"
     ]
    }
   ],
   "source": [
    "ask_num = eval(input('Enter the number : '))\n",
    "sq_num = ask_num ** 2\n",
    "cub_num = ask_num**3\n",
    "#sq_num = ask_num * ask_num\n",
    "#cub_num = pow(ask_num,3)\n",
    "\n",
    "print('Square of ' + str(ask_num) + ' is : ' , str(sq_num))\n",
    "print('Cube of ' + str(ask_num) + ' is : ' , str(cub_num))"
   ]
  },
  {
   "cell_type": "code",
   "execution_count": 42,
   "id": "37ddbf7b",
   "metadata": {},
   "outputs": [
    {
     "name": "stdout",
     "output_type": "stream",
     "text": [
      "Enter 1st Number : 20\n",
      "Enter 2nd Number : 40\n",
      "Enter 3rd Number : 60\n",
      "Numbers entered are : 20 40 60 and their totals are : 120 and avg is : 40.0\n"
     ]
    }
   ],
   "source": [
    "num1 = eval(input('Enter 1st Number : '))\n",
    "num2 = eval(input('Enter 2nd Number : '))\n",
    "num3 = eval(input('Enter 3rd Number : '))\n",
    "\n",
    "count(num1)\n",
    "total = num1 + num2 + num3\n",
    "\n",
    "avg = total/\n",
    "\n",
    "print(\"Numbers entered are : \" + str(num1) + \" \" +str(num2) + \" \" + str(num3) + \n",
    "      \" and their totals are : \" + str(total) + \" and avg is : \" + str(avg))"
   ]
  },
  {
   "cell_type": "code",
   "execution_count": 48,
   "id": "8958e6f8",
   "metadata": {},
   "outputs": [
    {
     "name": "stdout",
     "output_type": "stream",
     "text": [
      "Enter basic salary: 25000\n",
      "Basic Salary :  25000\n",
      "HRA Components :  2500.0\n",
      "Conveyance  Allowance :  2250.0\n",
      "DA allowance:  10000.0\n",
      "Total Salary :  39750.0\n"
     ]
    }
   ],
   "source": [
    "basic_sal = eval(input('Enter basic salary: '))\n",
    "\n",
    "hra = 0.1 * basic_sal\n",
    "\n",
    "conv_allw = 0.90 * hra\n",
    "\n",
    "da_allw = 0.4*basic_sal\n",
    "\n",
    "total_sal = basic_sal + hra + conv_allw + da_allw\n",
    "\n",
    "print(\"Basic Salary : \" , str(basic_sal))\n",
    "print(\"HRA Components : \", str(hra))\n",
    "print(\"Conveyance  Allowance : \" , str(conv_allw))\n",
    "print(\"DA allowance: \", str(da_allw))\n",
    "print(\"Total Salary : \" ,str(total_sal))"
   ]
  },
  {
   "cell_type": "code",
   "execution_count": null,
   "id": "19185124",
   "metadata": {},
   "outputs": [],
   "source": []
  },
  {
   "cell_type": "code",
   "execution_count": null,
   "id": "93b1d3cf",
   "metadata": {},
   "outputs": [],
   "source": []
  },
  {
   "cell_type": "code",
   "execution_count": null,
   "id": "4f326d2a",
   "metadata": {},
   "outputs": [],
   "source": []
  }
 ],
 "metadata": {
  "kernelspec": {
   "display_name": "Python 3 (ipykernel)",
   "language": "python",
   "name": "python3"
  },
  "language_info": {
   "codemirror_mode": {
    "name": "ipython",
    "version": 3
   },
   "file_extension": ".py",
   "mimetype": "text/x-python",
   "name": "python",
   "nbconvert_exporter": "python",
   "pygments_lexer": "ipython3",
   "version": "3.11.5"
  }
 },
 "nbformat": 4,
 "nbformat_minor": 5
}
