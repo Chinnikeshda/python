{
 "cells": [
  {
   "cell_type": "markdown",
   "id": "9666621c",
   "metadata": {},
   "source": [
    "# Tuple"
   ]
  },
  {
   "cell_type": "code",
   "execution_count": 1,
   "id": "ed33cb5b",
   "metadata": {},
   "outputs": [
    {
     "name": "stdout",
     "output_type": "stream",
     "text": [
      "tuple1---->  ()\n"
     ]
    }
   ],
   "source": [
    "tuple1 = ()\n",
    "print(\"tuple1----> \", tuple1)"
   ]
  },
  {
   "cell_type": "code",
   "execution_count": 2,
   "id": "8112521c",
   "metadata": {},
   "outputs": [
    {
     "data": {
      "text/plain": [
       "('a', 'b', 'c', 'd', 'e')"
      ]
     },
     "execution_count": 2,
     "metadata": {},
     "output_type": "execute_result"
    }
   ],
   "source": [
    "my_tuple = ('a', 'b', 'c', 'd', 'e')\n",
    "my_tuple"
   ]
  },
  {
   "cell_type": "code",
   "execution_count": 3,
   "id": "5ce0dd2e",
   "metadata": {},
   "outputs": [
    {
     "data": {
      "text/plain": [
       "('a', 1, 1.1, True)"
      ]
     },
     "execution_count": 3,
     "metadata": {},
     "output_type": "execute_result"
    }
   ],
   "source": [
    "my_mixed_tuple = ('a', 1, 1.1, True)\n",
    "my_mixed_tuple "
   ]
  },
  {
   "cell_type": "code",
   "execution_count": 4,
   "id": "28db437d",
   "metadata": {},
   "outputs": [
    {
     "name": "stdout",
     "output_type": "stream",
     "text": [
      "<class 'tuple'>\n",
      "<class 'tuple'>\n"
     ]
    }
   ],
   "source": [
    "print(type(my_tuple))\n",
    "print(type(my_mixed_tuple))"
   ]
  },
  {
   "cell_type": "code",
   "execution_count": 5,
   "id": "ba9e3200",
   "metadata": {},
   "outputs": [
    {
     "data": {
      "text/plain": [
       "str"
      ]
     },
     "execution_count": 5,
     "metadata": {},
     "output_type": "execute_result"
    }
   ],
   "source": [
    "type(my_tuple[0])"
   ]
  },
  {
   "cell_type": "code",
   "execution_count": 6,
   "id": "f707620f",
   "metadata": {},
   "outputs": [
    {
     "data": {
      "text/plain": [
       "int"
      ]
     },
     "execution_count": 6,
     "metadata": {},
     "output_type": "execute_result"
    }
   ],
   "source": [
    "type(my_mixed_tuple[1])"
   ]
  },
  {
   "cell_type": "code",
   "execution_count": 7,
   "id": "776b5b1b",
   "metadata": {},
   "outputs": [
    {
     "name": "stdout",
     "output_type": "stream",
     "text": [
      "First element --->  a        type of element ---->  <class 'str'>\n",
      "Second element --->  1        type of element ---->  <class 'int'>\n",
      "Third element --->  1.1        type of element ---->  <class 'float'>\n",
      "Fourth element --->  True        type of element ---->  <class 'bool'>\n"
     ]
    }
   ],
   "source": [
    "print(\"First element ---> \" , my_mixed_tuple[0], \"      \", \"type of element ----> \", type(my_mixed_tuple[0]))\n",
    "print(\"Second element ---> \" , my_mixed_tuple[1], \"      \", \"type of element ----> \", type(my_mixed_tuple[1]))\n",
    "print(\"Third element ---> \" , my_mixed_tuple[2], \"      \", \"type of element ----> \", type(my_mixed_tuple[2]))\n",
    "print(\"Fourth element ---> \" , my_mixed_tuple[3], \"      \", \"type of element ----> \", type(my_mixed_tuple[3]))"
   ]
  },
  {
   "cell_type": "code",
   "execution_count": 8,
   "id": "1b78f137",
   "metadata": {},
   "outputs": [
    {
     "name": "stdout",
     "output_type": "stream",
     "text": [
      "Last element --->  True\n",
      "Second Last element --->  1.1\n",
      "Third element from Last--->  1\n",
      "Fourth element from Last--->  a\n"
     ]
    }
   ],
   "source": [
    "print(\"Last element ---> \" , my_mixed_tuple[-1])\n",
    "print(\"Second Last element ---> \" , my_mixed_tuple[-2])\n",
    "print(\"Third element from Last---> \" , my_mixed_tuple[-3])\n",
    "print(\"Fourth element from Last---> \" , my_mixed_tuple[-4])"
   ]
  },
  {
   "cell_type": "code",
   "execution_count": 9,
   "id": "2a575a24",
   "metadata": {},
   "outputs": [
    {
     "data": {
      "text/plain": [
       "('a', 1)"
      ]
     },
     "execution_count": 9,
     "metadata": {},
     "output_type": "execute_result"
    }
   ],
   "source": [
    "my_mixed_tuple[ 0 : 2]   # extracts first two elements of tuple"
   ]
  },
  {
   "cell_type": "code",
   "execution_count": 10,
   "id": "414b787d",
   "metadata": {},
   "outputs": [
    {
     "data": {
      "text/plain": [
       "('a', 'b', 'c', 'd', 'e')"
      ]
     },
     "execution_count": 10,
     "metadata": {},
     "output_type": "execute_result"
    }
   ],
   "source": [
    "my_tuple"
   ]
  },
  {
   "cell_type": "code",
   "execution_count": 13,
   "id": "1eb37bdd",
   "metadata": {},
   "outputs": [
    {
     "data": {
      "text/plain": [
       "('a', 'b', 'c', 'd', 'e')"
      ]
     },
     "execution_count": 13,
     "metadata": {},
     "output_type": "execute_result"
    }
   ],
   "source": [
    "my_tuple[0:]"
   ]
  },
  {
   "cell_type": "code",
   "execution_count": 14,
   "id": "de5e5972",
   "metadata": {},
   "outputs": [
    {
     "data": {
      "text/plain": [
       "('a', 'b')"
      ]
     },
     "execution_count": 14,
     "metadata": {},
     "output_type": "execute_result"
    }
   ],
   "source": [
    "my_tuple[:2]"
   ]
  },
  {
   "cell_type": "code",
   "execution_count": 15,
   "id": "56f97183",
   "metadata": {},
   "outputs": [
    {
     "data": {
      "text/plain": [
       "('b',)"
      ]
     },
     "execution_count": 15,
     "metadata": {},
     "output_type": "execute_result"
    }
   ],
   "source": [
    "my_tuple[1:2]"
   ]
  },
  {
   "cell_type": "code",
   "execution_count": 17,
   "id": "7e028e8e",
   "metadata": {},
   "outputs": [
    {
     "data": {
      "text/plain": [
       "('e', 'd', 'c', 'b', 'a')"
      ]
     },
     "execution_count": 17,
     "metadata": {},
     "output_type": "execute_result"
    }
   ],
   "source": [
    "my_tuple[::-1]"
   ]
  },
  {
   "cell_type": "code",
   "execution_count": 18,
   "id": "9fd092c5",
   "metadata": {},
   "outputs": [
    {
     "data": {
      "text/plain": [
       "('e', 'c', 'a')"
      ]
     },
     "execution_count": 18,
     "metadata": {},
     "output_type": "execute_result"
    }
   ],
   "source": [
    "my_tuple[::-2]"
   ]
  },
  {
   "cell_type": "code",
   "execution_count": 19,
   "id": "e63ce31f",
   "metadata": {},
   "outputs": [
    {
     "data": {
      "text/plain": [
       "('1', '2', '3', '4', '5', '6')"
      ]
     },
     "execution_count": 19,
     "metadata": {},
     "output_type": "execute_result"
    }
   ],
   "source": [
    "tuple1 = ('1', '2', '3', '4')\n",
    "tuple2 = ('5', '6')\n",
    "new_tuple = tuple1 + tuple2  # concat two tuples using + \n",
    "new_tuple"
   ]
  },
  {
   "cell_type": "code",
   "execution_count": 20,
   "id": "4150f2d9",
   "metadata": {},
   "outputs": [],
   "source": [
    "tuple2 = ('5', '6')"
   ]
  },
  {
   "cell_type": "code",
   "execution_count": 21,
   "id": "aec033e1",
   "metadata": {},
   "outputs": [
    {
     "data": {
      "text/plain": [
       "('5', '6', '5', '6')"
      ]
     },
     "execution_count": 21,
     "metadata": {},
     "output_type": "execute_result"
    }
   ],
   "source": [
    "tuple2*2"
   ]
  },
  {
   "cell_type": "code",
   "execution_count": 22,
   "id": "fcf81622",
   "metadata": {},
   "outputs": [
    {
     "ename": "TypeError",
     "evalue": "can't multiply sequence by non-int of type 'tuple'",
     "output_type": "error",
     "traceback": [
      "\u001b[1;31m---------------------------------------------------------------------------\u001b[0m",
      "\u001b[1;31mTypeError\u001b[0m                                 Traceback (most recent call last)",
      "Cell \u001b[1;32mIn[22], line 1\u001b[0m\n\u001b[1;32m----> 1\u001b[0m tuple2\u001b[38;5;241m*\u001b[39mtuple1\n",
      "\u001b[1;31mTypeError\u001b[0m: can't multiply sequence by non-int of type 'tuple'"
     ]
    }
   ],
   "source": [
    "tuple2*tuple1"
   ]
  },
  {
   "cell_type": "code",
   "execution_count": 23,
   "id": "a7aaab7e",
   "metadata": {},
   "outputs": [],
   "source": [
    "my_tuple = ('a', 'b', 'c', 'd', 'e')"
   ]
  },
  {
   "cell_type": "code",
   "execution_count": 24,
   "id": "6b224905",
   "metadata": {},
   "outputs": [
    {
     "ename": "TypeError",
     "evalue": "'tuple' object does not support item assignment",
     "output_type": "error",
     "traceback": [
      "\u001b[1;31m---------------------------------------------------------------------------\u001b[0m",
      "\u001b[1;31mTypeError\u001b[0m                                 Traceback (most recent call last)",
      "Cell \u001b[1;32mIn[24], line 1\u001b[0m\n\u001b[1;32m----> 1\u001b[0m my_tuple[\u001b[38;5;241m0\u001b[39m] \u001b[38;5;241m=\u001b[39m \u001b[38;5;124m\"\u001b[39m\u001b[38;5;124mA\u001b[39m\u001b[38;5;124m\"\u001b[39m\n",
      "\u001b[1;31mTypeError\u001b[0m: 'tuple' object does not support item assignment"
     ]
    }
   ],
   "source": [
    "my_tuple[0] = \"A\""
   ]
  },
  {
   "cell_type": "code",
   "execution_count": 26,
   "id": "56897ce2",
   "metadata": {},
   "outputs": [],
   "source": [
    "abc =list(my_tuple)"
   ]
  },
  {
   "cell_type": "code",
   "execution_count": 27,
   "id": "db84e4f4",
   "metadata": {},
   "outputs": [],
   "source": [
    "abc[0]= \"A\""
   ]
  },
  {
   "cell_type": "code",
   "execution_count": 28,
   "id": "a8dd5892",
   "metadata": {},
   "outputs": [
    {
     "data": {
      "text/plain": [
       "['A', 'b', 'c', 'd', 'e']"
      ]
     },
     "execution_count": 28,
     "metadata": {},
     "output_type": "execute_result"
    }
   ],
   "source": [
    "abc "
   ]
  },
  {
   "cell_type": "code",
   "execution_count": 29,
   "id": "fdc204f8",
   "metadata": {},
   "outputs": [
    {
     "data": {
      "text/plain": [
       "('A', 'b', 'c', 'd', 'e')"
      ]
     },
     "execution_count": 29,
     "metadata": {},
     "output_type": "execute_result"
    }
   ],
   "source": [
    "tuple(abc )"
   ]
  },
  {
   "cell_type": "code",
   "execution_count": 39,
   "id": "a3b6e97b",
   "metadata": {},
   "outputs": [],
   "source": [
    "var = tuple(\"A\")"
   ]
  },
  {
   "cell_type": "code",
   "execution_count": 36,
   "id": "511475ac",
   "metadata": {},
   "outputs": [
    {
     "data": {
      "text/plain": [
       "('a', 'b', 'c', 'd', 'e')"
      ]
     },
     "execution_count": 36,
     "metadata": {},
     "output_type": "execute_result"
    }
   ],
   "source": [
    "my_tuple "
   ]
  },
  {
   "cell_type": "code",
   "execution_count": 41,
   "id": "fba0aeed",
   "metadata": {},
   "outputs": [
    {
     "data": {
      "text/plain": [
       "('A', 'a', 'b', 'c', 'd', 'e')"
      ]
     },
     "execution_count": 41,
     "metadata": {},
     "output_type": "execute_result"
    }
   ],
   "source": [
    "var + my_tuple"
   ]
  },
  {
   "cell_type": "code",
   "execution_count": 40,
   "id": "659b40c7",
   "metadata": {},
   "outputs": [
    {
     "data": {
      "text/plain": [
       "tuple"
      ]
     },
     "execution_count": 40,
     "metadata": {},
     "output_type": "execute_result"
    }
   ],
   "source": [
    "type(var )"
   ]
  },
  {
   "cell_type": "code",
   "execution_count": 42,
   "id": "b499f16a",
   "metadata": {},
   "outputs": [
    {
     "data": {
      "text/plain": [
       "('A', 'b', 'c', 'd', 'e')"
      ]
     },
     "execution_count": 42,
     "metadata": {},
     "output_type": "execute_result"
    }
   ],
   "source": [
    "var + my_tuple[1:]"
   ]
  },
  {
   "cell_type": "code",
   "execution_count": 43,
   "id": "02d18abb",
   "metadata": {},
   "outputs": [
    {
     "data": {
      "text/plain": [
       "['__add__',\n",
       " '__class__',\n",
       " '__class_getitem__',\n",
       " '__contains__',\n",
       " '__delattr__',\n",
       " '__dir__',\n",
       " '__doc__',\n",
       " '__eq__',\n",
       " '__format__',\n",
       " '__ge__',\n",
       " '__getattribute__',\n",
       " '__getitem__',\n",
       " '__getnewargs__',\n",
       " '__getstate__',\n",
       " '__gt__',\n",
       " '__hash__',\n",
       " '__init__',\n",
       " '__init_subclass__',\n",
       " '__iter__',\n",
       " '__le__',\n",
       " '__len__',\n",
       " '__lt__',\n",
       " '__mul__',\n",
       " '__ne__',\n",
       " '__new__',\n",
       " '__reduce__',\n",
       " '__reduce_ex__',\n",
       " '__repr__',\n",
       " '__rmul__',\n",
       " '__setattr__',\n",
       " '__sizeof__',\n",
       " '__str__',\n",
       " '__subclasshook__',\n",
       " 'count',\n",
       " 'index']"
      ]
     },
     "execution_count": 43,
     "metadata": {},
     "output_type": "execute_result"
    }
   ],
   "source": [
    "dir(tuple)"
   ]
  },
  {
   "cell_type": "code",
   "execution_count": 45,
   "id": "765adcc3",
   "metadata": {},
   "outputs": [
    {
     "data": {
      "text/plain": [
       "1"
      ]
     },
     "execution_count": 45,
     "metadata": {},
     "output_type": "execute_result"
    }
   ],
   "source": [
    "my_tuple.count(\"a\")"
   ]
  },
  {
   "cell_type": "code",
   "execution_count": 46,
   "id": "e7935259",
   "metadata": {},
   "outputs": [
    {
     "data": {
      "text/plain": [
       "0"
      ]
     },
     "execution_count": 46,
     "metadata": {},
     "output_type": "execute_result"
    }
   ],
   "source": [
    "my_tuple.index(\"a\")"
   ]
  },
  {
   "cell_type": "code",
   "execution_count": 47,
   "id": "4f55c011",
   "metadata": {},
   "outputs": [
    {
     "data": {
      "text/plain": [
       "2"
      ]
     },
     "execution_count": 47,
     "metadata": {},
     "output_type": "execute_result"
    }
   ],
   "source": [
    "my_tuple.index(\"c\")"
   ]
  },
  {
   "cell_type": "code",
   "execution_count": 48,
   "id": "f38e551e",
   "metadata": {},
   "outputs": [
    {
     "data": {
      "text/plain": [
       "(10, 8, 3, 2, 4, 0, 0, 3)"
      ]
     },
     "execution_count": 48,
     "metadata": {},
     "output_type": "execute_result"
    }
   ],
   "source": [
    "Scores = (10, 8 , 3, 2 , 4, 0 , 0, 3)\n",
    "Scores"
   ]
  },
  {
   "cell_type": "code",
   "execution_count": 49,
   "id": "e71db95f",
   "metadata": {},
   "outputs": [
    {
     "data": {
      "text/plain": [
       "[0, 0, 2, 3, 3, 4, 8, 10]"
      ]
     },
     "execution_count": 49,
     "metadata": {},
     "output_type": "execute_result"
    }
   ],
   "source": [
    "sorted(Scores)"
   ]
  },
  {
   "cell_type": "code",
   "execution_count": 50,
   "id": "822c5bf5",
   "metadata": {},
   "outputs": [
    {
     "data": {
      "text/plain": [
       "('a', 'j', 'z', 'e', 'b')"
      ]
     },
     "execution_count": 50,
     "metadata": {},
     "output_type": "execute_result"
    }
   ],
   "source": [
    "grades = ('a', 'j', 'z', 'e', 'b')\n",
    "grades"
   ]
  },
  {
   "cell_type": "code",
   "execution_count": 52,
   "id": "16ce5825",
   "metadata": {},
   "outputs": [
    {
     "data": {
      "text/plain": [
       "['z', 'j', 'e', 'b', 'a']"
      ]
     },
     "execution_count": 52,
     "metadata": {},
     "output_type": "execute_result"
    }
   ],
   "source": [
    "sorted(grades, reverse= True)"
   ]
  },
  {
   "cell_type": "code",
   "execution_count": 53,
   "id": "14e11fa2",
   "metadata": {},
   "outputs": [],
   "source": [
    "del(my_tuple)  # remove the tuple"
   ]
  },
  {
   "cell_type": "code",
   "execution_count": null,
   "id": "6b0d5137",
   "metadata": {},
   "outputs": [],
   "source": []
  }
 ],
 "metadata": {
  "kernelspec": {
   "display_name": "Python 3 (ipykernel)",
   "language": "python",
   "name": "python3"
  },
  "language_info": {
   "codemirror_mode": {
    "name": "ipython",
    "version": 3
   },
   "file_extension": ".py",
   "mimetype": "text/x-python",
   "name": "python",
   "nbconvert_exporter": "python",
   "pygments_lexer": "ipython3",
   "version": "3.11.5"
  }
 },
 "nbformat": 4,
 "nbformat_minor": 5
}
